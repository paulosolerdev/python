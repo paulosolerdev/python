{
 "cells": [
  {
   "cell_type": "code",
   "execution_count": 3,
   "id": "db37c03f",
   "metadata": {},
   "outputs": [
    {
     "name": "stdout",
     "output_type": "stream",
     "text": [
      "1\n",
      "2\n",
      "3\n",
      "4\n",
      "5\n",
      "6\n",
      "7\n",
      "8\n",
      "9\n",
      "10\n",
      "\n"
     ]
    }
   ],
   "source": [
    "#For Laço de repetição\n",
    "#Função range para imprimir os números inteiror de 1 a 10\n",
    "\n",
    "for i in range(1, 11):\n",
    "    \n",
    "    print(f\"{i}\")\n",
    "\n",
    "\n",
    "\"\"\"\n",
    "Explicação:\n",
    "\n",
    "    Loop For com Range: A estrutura for é usada para criar um loop que\n",
    "    iterará sobre uma sequência de valores. A função range(1, 11) gera uma sequência\n",
    "    de números inteiros começando em 1 e terminando antes de 11.\n",
    "    \n",
    "    Corpo do Loop: Dentro do loop, há uma única instrução:\n",
    "    \n",
    "        Imprimir Número Atual: A função print(i) imprime o valor atual da variável de loop i.\n",
    "    \n",
    "    Execução do Loop: O loop será executado para cada valor de i na sequência gerada\n",
    "    por range(1, 11), o que significa que ele será executado 10 vezes, com i assumindo os\n",
    "    valores de 1 a 10, um de cada vez.\n",
    "    \n",
    "O código ilustra como usar um loop for com a função range para iterar\n",
    "sobre uma sequência de números inteiros, executando uma ação (neste caso,\n",
    "imprimir o número) para cada valor na sequência. É uma maneira comum de \n",
    "repetir uma ação para um número fixo de vezes em Python.\n",
    "\n",
    "\"\"\"\n",
    "print()"
   ]
  },
  {
   "cell_type": "code",
   "execution_count": 6,
   "id": "470624dd",
   "metadata": {},
   "outputs": [
    {
     "name": "stdout",
     "output_type": "stream",
     "text": [
      "\n"
     ]
    }
   ],
   "source": [
    "\"\"\"\n",
    "A diferença entre os loops while e for em Python (e na maioria das linguagens\n",
    "de programação) reside principalmente em como eles determinam a continuação\n",
    "do loop e como manipulam a iteração.\n",
    "\n",
    "Veja as principais diferenças:\n",
    "Loop While\n",
    "\n",
    "    Controle de Condição: O loop while continuará executando enquando uma\n",
    "    condição especificada for avaliada como verdadeira (True).\n",
    "    \n",
    "    Incremento/Decremento Manual: Você geralmente precisa manipular manualmente\n",
    "    a variável de controle (por exemplo, incrementar ou decrementar) dentro\n",
    "    do loop.\n",
    "    \n",
    "    Geralmente Usado Quando: A quantidade de iterações não é conhecida de\n",
    "    antemão, e o loop deve continuar com base em uma condição.\n",
    "    \n",
    "Exemplo:\n",
    "\n",
    "count = 0\n",
    "while count < 5:\n",
    "    print(count)\n",
    "    count += 1\n",
    "    \n",
    "Loop for\n",
    "\n",
    "    Iteração sobre uma sequência: O loop for é usado para iterar sobre\n",
    "    uma sequência (lista, tupla, dicionário, conjunto ou string), percorrendo\n",
    "    cada elemento da sequência.\n",
    "    \n",
    "    Incremento/Decremento Automático: O controle do loop é gerenciado automaticamente\n",
    "    pelo próprio loop for.\n",
    "    \n",
    "    Geralmente Usado Quando: Você sabe o número de iterações de antemão, ou você\n",
    "    está iterando sobre uma sequência.\n",
    "    \n",
    "Exemplo:\n",
    "\n",
    "for i in range(5):\n",
    "    print(i)\n",
    "    \n",
    "Em resumo, o loop while é geralmente usado quando você quer continuar\n",
    "o loop com base em uma condição, e você pode não saber quantas vezes\n",
    "loop precisa ser executado. O loop for, por outro lado, é mais comum\n",
    "quando você sabe quantas vezes quer iterar ou quando está trabalhando\n",
    "com uma sequência de elementos.\n",
    "\n",
    "\"\"\"\n",
    "print()"
   ]
  },
  {
   "cell_type": "code",
   "execution_count": 11,
   "id": "cc5989fa",
   "metadata": {},
   "outputs": [
    {
     "name": "stdout",
     "output_type": "stream",
     "text": [
      "10\n",
      "9\n",
      "8\n",
      "7\n",
      "6\n",
      "5\n",
      "4\n",
      "3\n",
      "2\n",
      "1\n",
      "\n"
     ]
    }
   ],
   "source": [
    "#for - utilizando números\n",
    "\n",
    "for i in range(10, 0, -1):\n",
    "    \n",
    "    print(i)\n",
    "\n",
    "\"\"\"\n",
    "Explicação:\n",
    "\n",
    "    Loop For com Range: A estrutura for é usada para criar um loop que\n",
    "    iterará sobre uma sequência de valores. A função range(10, 0, -1)\n",
    "    gera uma sequência de números inteiros começando em 10 e terminando\n",
    "    antes de 0, decrementando 1 a cada passo.\n",
    "    \n",
    "        O primeiro argumento 10 é o valor inicial.\n",
    "        \n",
    "        O segundo argumento 0 é o valor final (exclusivo).\n",
    "        \n",
    "        O terceiro argumento -1 é o passo, ou seja, a quantidade pela qual\n",
    "        o valor é alterado a cada iteração (neste caso, decrementado em 1).\n",
    "        \n",
    "    Corpo do Loop: Dentro do loop, há uma única instrução:\n",
    "    \n",
    "        Imprimir Número Atual: A função print(i) imprime o valor atual da\n",
    "        variável de loop i.\n",
    "        \n",
    "    Execução do Loop: O loop será executado para cada valor de i na sequência\n",
    "    gerada por range(10, 0, -1), o que significa que ele será executado 10\n",
    "    vezes, com i assumindo os valores de 10 a 1, um de cada vez, em ordem\n",
    "    decrescente.\n",
    "    \n",
    "\n",
    "\"\"\"\n",
    "print()"
   ]
  },
  {
   "cell_type": "code",
   "execution_count": 13,
   "id": "ac001942",
   "metadata": {},
   "outputs": [
    {
     "name": "stdout",
     "output_type": "stream",
     "text": [
      "2\n",
      "4\n",
      "6\n",
      "8\n",
      "10\n"
     ]
    }
   ],
   "source": [
    "#for - utilizando números\n",
    "\n",
    "#De 1 a 10 com um passo de 2.\n",
    "\n",
    "for i in range(2, 12, 2):\n",
    "    \n",
    "    print(i)\n",
    "    "
   ]
  },
  {
   "cell_type": "code",
   "execution_count": 16,
   "id": "1bc547c6",
   "metadata": {},
   "outputs": [
    {
     "name": "stdout",
     "output_type": "stream",
     "text": [
      "Número ímpar atual: 1\n",
      "Número ímpar atual: 3\n",
      "Número ímpar atual: 5\n",
      "Número ímpar atual: 7\n",
      "Número ímpar atual: 9\n",
      "\n",
      "A soma dos números ímpares de 1 a 10 é: 25\n"
     ]
    }
   ],
   "source": [
    "# Inicializando a variável para armazenar a soma\n",
    "soma = 0\n",
    "\n",
    "# Iterando de 1 a 10, de 2 em 2 (capturando apenas os números ímpares)\n",
    "for i in range(1, 11, 2):\n",
    "    \n",
    "    print(f\"Número ímpar atual: {i}\")\n",
    "    \n",
    "    soma += i\n",
    "    \n",
    "print(f\"\\nA soma dos números ímpares de 1 a 10 é: {soma}\")\n"
   ]
  },
  {
   "cell_type": "code",
   "execution_count": 21,
   "id": "0000e5a3",
   "metadata": {},
   "outputs": [
    {
     "name": "stdout",
     "output_type": "stream",
     "text": [
      "Multiplicando por 1, o resultado parcial é 1\n",
      "Multiplicando por 2, o resultado parcial é 2\n",
      "Multiplicando por 3, o resultado parcial é 6\n",
      "Multiplicando por 4, o resultado parcial é 24\n",
      "Multiplicando por 5, o resultado parcial é 120\n",
      "O resultado final da multiplicação de 1 a 5 é: 120\n"
     ]
    }
   ],
   "source": [
    "\"\"\"\n",
    "Exercício: Multiplicação de Números\n",
    "\n",
    "Objetivo: Escreva um programa que utilize um loop for para multiplicar\n",
    "os números de 1 a 5 e imprima o resultado de cada etapa e o resultado final.\n",
    "\n",
    "Etapas:\n",
    "    \n",
    "    - Utilize um loop for para iterar pelos números de 1 a 5.\n",
    "    - Multiplique cada número pelo resultado anterior (começando por 1).\n",
    "    - Imprima o resultado de cada etapa.\n",
    "    - Imprima o resultado final da multiplicação de todos os números.\n",
    "    \n",
    "\n",
    "\"\"\"\n",
    "\n",
    "multiplicacao = 1\n",
    "\n",
    "for i in range(1, 6):\n",
    "\n",
    "    multiplicacao *= i\n",
    "\n",
    "    print(f\"Multiplicando por {i}, o resultado parcial é {multiplicacao}\")\n",
    "\n",
    "print(f\"O resultado final da multiplicação de 1 a 5 é: {multiplicacao}\")\n"
   ]
  },
  {
   "cell_type": "code",
   "execution_count": 1,
   "id": "86ae72af",
   "metadata": {},
   "outputs": [
    {
     "name": "stdout",
     "output_type": "stream",
     "text": [
      "Digite um número inteiro positivo: 5\n",
      "Número: 0 + 0 = 0\n",
      "Número: 2 + 0 = 2\n",
      "Número: 4 + 2 = 6\n",
      "A soma dos números pares de 1 até 5 é: 6\n"
     ]
    }
   ],
   "source": [
    "\"\"\"\n",
    "Exercício: Soma de Números Pares\n",
    "\n",
    "Objetivo: Escreva um programa que peça ao usuário um número inteiro N\n",
    "e some todos os números pares de 1 até N, incluindo o próprio N (se for par).\n",
    "\n",
    "Utilize um loop for para esta tarefa.\n",
    "\n",
    "Etapas:\n",
    "\n",
    "    - Solicite ao usuário um número inteiro positivo N.\n",
    "    \n",
    "    - Utilize um loop for para iterar de 1 a N e some todos os números\n",
    "    pares.\n",
    "    \n",
    "    - Imprima o resultado da soma.\n",
    "    \n",
    "\n",
    "\"\"\"\n",
    "\n",
    "numero = int(input(\"Digite um número inteiro positivo: \"))\n",
    "soma = 0\n",
    "\n",
    "for i in range(0, numero+1, 2):\n",
    "    \n",
    "    print(f\"Número: {i} + {soma} = {i+soma}\")\n",
    "    soma += i\n",
    "    \n",
    "print(f\"A soma dos números pares de 1 até {numero} é: {soma}\")\n"
   ]
  },
  {
   "cell_type": "code",
   "execution_count": 5,
   "id": "51093ade",
   "metadata": {},
   "outputs": [
    {
     "name": "stdout",
     "output_type": "stream",
     "text": [
      "Digite um número inteiro positivo para exibit a sua tabela de multiplicação: 5\n",
      "1 * 5 = 5\n",
      "2 * 5 = 10\n",
      "3 * 5 = 15\n",
      "4 * 5 = 20\n",
      "5 * 5 = 25\n",
      "6 * 5 = 30\n",
      "7 * 5 = 35\n",
      "8 * 5 = 40\n",
      "9 * 5 = 45\n",
      "10 * 5 = 50\n",
      "Fim da tabela de multiplicação.\n"
     ]
    }
   ],
   "source": [
    "\"\"\"\n",
    "Exercício: Tabela de Multiplicação\n",
    "\n",
    "Objetivo: Escreva um programa que peça ao usuário u número inteiro\n",
    "positivo N e exiba a tabela de multiplicação para esse número, de 1 a 10.\n",
    "Utilize um loop for para esta tarefa.\n",
    "\n",
    "Etapas:\n",
    "\n",
    "    - Solicite ao usuário um número inteiro positivo N.\n",
    "    - Utilize um loop for para iterar de 1 a 10.\n",
    "    - Para cada iteração, multiplique o número N pelo valor da iteração\n",
    "    e imprima o resultado.\n",
    "    \n",
    "\"\"\"\n",
    "\n",
    "n = int(input(\"Digite um número inteiro positivo para exibit a sua tabela de multiplicação: \"))\n",
    "\n",
    "for i in range(1, 11):\n",
    "    \n",
    "    resultado  = n * i\n",
    "    \n",
    "    print(f\"{i} * {n} = {resultado}\")\n",
    "  \n",
    "print(f\"Fim da tabela de multiplicação.\")\n"
   ]
  },
  {
   "cell_type": "code",
   "execution_count": 1,
   "id": "af81bba8",
   "metadata": {},
   "outputs": [
    {
     "name": "stdout",
     "output_type": "stream",
     "text": [
      "Digite um número inteiro positivo: 5\n",
      "Quadrado de 1: 1\n",
      "Quadrado de 2: 4\n",
      "Quadrado de 3: 9\n",
      "Quadrado de 4: 16\n",
      "Quadrado de 5: 25\n",
      "A soma dos quadrados dos números de 1 até 5 é: 55\n"
     ]
    }
   ],
   "source": [
    "\"\"\"\n",
    "Exercício: Soma dos Quadrados\n",
    "\n",
    "Objetivo: Escreva um programa que peça ao usuário um número inteiro positivo\n",
    "N e calcule a soma dos quadrados de todos os números inteiros de 1 até\n",
    "N. Utilize um loop for para esta tarefa.\n",
    "\n",
    "Etapas:\n",
    "\n",
    "    - Solicite ao usuário um número inteiro positivo N.\n",
    "    \n",
    "    - Utilize um loop for para iterar de 1 a N, calculando o quadrado\n",
    "    de cada número e somando-o a uma variável.\n",
    "    \n",
    "    - Imprima o resultado da soma.\n",
    "\"\"\"\n",
    "\n",
    "n = int(input(\"Digite um número inteiro positivo: \"))\n",
    "soma = 0\n",
    "quadrado = 0\n",
    "\n",
    "for i in range(1, n+1):\n",
    "    \n",
    "    quadrado = i**2\n",
    "    soma += quadrado\n",
    "    \n",
    "    print(f\"Quadrado de {i}: {quadrado}\")\n",
    "\n",
    "print(f\"A soma dos quadrados dos números de 1 até {n} é: {soma}\")"
   ]
  },
  {
   "cell_type": "code",
   "execution_count": 4,
   "id": "d7d9aabc",
   "metadata": {},
   "outputs": [
    {
     "name": "stdout",
     "output_type": "stream",
     "text": [
      "A\n",
      "B\n",
      "C\n"
     ]
    }
   ],
   "source": [
    "lista = [\"A\", \"B\", \"C\", \"D\", \"E\"]\n",
    "\n",
    "for item in lista:\n",
    "    \n",
    "    print(item)\n",
    "    \n",
    "    if item == \"C\":\n",
    "        \n",
    "        break\n",
    "\n",
    "        \"\"\"\n",
    "        Explicação:\n",
    "        \n",
    "            Definindo a Lista: A variável lista é inicializada com uma\n",
    "            lista de caracteres alfabéticos [\"A\", \"B\", \"C\", \"D\", \"E\"].\n",
    "            \n",
    "            Loop For: A estrutura for é usada para criar um loop que\n",
    "            iterará sobre cada elemento da lista lista.\n",
    "            \n",
    "            Corpo do Loop: Dentro do loop, há duas instruções:\n",
    "            \n",
    "                Imprimir Item Atual: A função print(item) imprime o \n",
    "                valor atual da variável de loop item.\n",
    "                \n",
    "                Condição\n",
    "                de Parada (if): A instrução if verifica se o\n",
    "                valor atual de item é igual a \"C\". Se essa condição for\n",
    "                verdadeira, a instrução break é executada, interrompendo\n",
    "                o loop imediatamente.\n",
    "                \n",
    "            Execução do Loop: Veja como ele se comporta em cada iteração:\n",
    "            \n",
    "                Iteração 1: Item é \"A\", é impresso, e o loop continua.\n",
    "                \n",
    "                Iteração 2: Item é \"B\", é impresso, e o loop continua.\n",
    "                \n",
    "                Iteração 3: Item é \"C\", é impresso, e então a condição\n",
    "                item == \"C\" é verdadeira, o que aciona a instrução break.\n",
    "                \n",
    "                O loop é interrompido, e o programa termina sua execução.\n",
    "                \n",
    "        O código demonstra como usar um loop for juntamente com uma instrução\n",
    "        condicional if e a palavra-chave break para controlar a execução do loop.\n",
    "        Neste exemplo, o loop é interrompido quando o item \"C\" é encontrado na lista.\n",
    "                \n",
    "        \"\"\"\n",
    "        \n",
    "        print()"
   ]
  },
  {
   "cell_type": "code",
   "execution_count": 8,
   "id": "b81dcf65",
   "metadata": {},
   "outputs": [
    {
     "name": "stdout",
     "output_type": "stream",
     "text": [
      "maçã\n",
      "banana\n",
      "laranja\n"
     ]
    }
   ],
   "source": [
    "frutas = ['maçã', 'banana', 'laranja']\n",
    "\n",
    "for fruta in frutas:\n",
    "    \n",
    "    print(fruta)"
   ]
  },
  {
   "cell_type": "code",
   "execution_count": 12,
   "id": "02456592",
   "metadata": {},
   "outputs": [
    {
     "name": "stdout",
     "output_type": "stream",
     "text": [
      "Digite um número: 8\n",
      "1\n",
      "2\n",
      "3\n",
      "4\n",
      "5\n",
      "6\n",
      "7\n",
      "8\n"
     ]
    }
   ],
   "source": [
    "numero = int(input('Digite um número: '))\n",
    "\n",
    "for i in range(1, numero+1):\n",
    "    \n",
    "    print(i)\n"
   ]
  },
  {
   "cell_type": "code",
   "execution_count": 14,
   "id": "4f3b9b58",
   "metadata": {},
   "outputs": [
    {
     "name": "stdout",
     "output_type": "stream",
     "text": [
      "1 é ímpar\n",
      "2 é par\n",
      "3 é ímpar\n",
      "4 é par\n",
      "5 é ímpar\n",
      "6 é par\n",
      "7 é ímpar\n",
      "8 é par\n",
      "9 é ímpar\n",
      "10 é par\n"
     ]
    }
   ],
   "source": [
    "numeros = [1, 2, 3, 4, 5, 6, 7, 8, 9, 10]\n",
    "\n",
    "for numero in numeros:\n",
    "    \n",
    "    if numero % 2 == 0:\n",
    "        \n",
    "        print(f'{numero} é par')\n",
    "        \n",
    "    else:\n",
    "        \n",
    "        print(f'{numero} é ímpar')\n"
   ]
  },
  {
   "cell_type": "code",
   "execution_count": 16,
   "id": "7af7ba6a",
   "metadata": {},
   "outputs": [
    {
     "name": "stdout",
     "output_type": "stream",
     "text": [
      "Eu preciso comprar notebook\n",
      "Eu preciso comprar headset\n",
      "Eu preciso comprar celular\n",
      "Eu preciso comprar camiseta\n",
      "Eu preciso comprar pendrive\n"
     ]
    }
   ],
   "source": [
    "\"\"\"\n",
    "Exercício: Lista de Compras\n",
    "\n",
    "Objetivo: Use um loop for para iterar sobre uma lista de itens de compras\n",
    "e imprimir cada item em um formato específico.\n",
    "\n",
    "Instruções:\n",
    "\n",
    "    1. Crie uma lista chamada itens_compra contendo alguns itens que\n",
    "    você compraria em uma loja, por exemplo: ['maçã', 'banana', 'cenoura', 'leite'].\n",
    "    \n",
    "    2. Use um loop for para iterar sobre os itens da lista.\n",
    "    \n",
    "    3. Para cada item na lista, imprima o item no seguinte formato: \"Eu preciso\n",
    "    comprar [item].\"\n",
    "    \n",
    "\"\"\"\n",
    "\n",
    "itens_compra = ['notebook', 'headset', 'celular', 'camiseta', 'pendrive']\n",
    "\n",
    "for item in itens_compra:\n",
    "    \n",
    "    print(f\"Eu preciso comprar {item}\")\n"
   ]
  },
  {
   "cell_type": "code",
   "execution_count": 21,
   "id": "8564638b",
   "metadata": {},
   "outputs": [
    {
     "name": "stdout",
     "output_type": "stream",
     "text": [
      "*****\n",
      "****\n",
      "***\n",
      "**\n",
      "*\n"
     ]
    }
   ],
   "source": [
    "\"\"\"\n",
    "Exercício: Estrelas Descendentes\n",
    "\n",
    "Objetivo: Use um loop for para criar um padrão descendente de estrelas (*).\n",
    "Comece com 5 estrelas na primeira linha e reduza uma estrela em cada\n",
    "linha subsequente até não restar nenhuma estrela.\n",
    "\n",
    "Instruções:\n",
    "\n",
    "    1. Use um loop for para iterar de 5 a 0 (dica: pense sobre a função\n",
    "    range() de maneira descendente).\n",
    "    \n",
    "    2. Em cada iteração do loop, imprima o número atual de estrelas em\n",
    "    uma única linha.\n",
    "    \n",
    "\"\"\"\n",
    "\n",
    "for i in range(5, 0, -1):\n",
    "    \n",
    "    print(f\"{i * '*'}\")\n"
   ]
  },
  {
   "cell_type": "code",
   "execution_count": 1,
   "id": "9c6bbdec",
   "metadata": {},
   "outputs": [
    {
     "name": "stdout",
     "output_type": "stream",
     "text": [
      "carro\n",
      "árvore\n"
     ]
    }
   ],
   "source": [
    "\"\"\"\n",
    "Exercício: Palavras com mais de 4 letras\n",
    "\n",
    "Objetivo: Solicite ao usuário uma lista de palavras e, em seguida,\n",
    "exiba apenas as palavras que têm mais de 4 letras.\n",
    "\n",
    "Instruções:\n",
    "\n",
    "    1. Peça ao usuário que insira palavras separadas por vírgula (por\n",
    "    exemplo, ['casa', 'carro', 'sol', 'árvore']).\n",
    "    \n",
    "    2. Use um loop for para iterar sobre essa lista de palavras.\n",
    "    \n",
    "    3. Dentro do loop, verifique o comprimento de cada palavra.\n",
    "    \n",
    "    4. Se a palavra tiver mais de 4 letras, imprima-a.\n",
    "    \n",
    "\"\"\"\n",
    "\n",
    "palavras = ['casa', 'carro', 'sol', 'árvore']\n",
    "\n",
    "for palavra in palavras:\n",
    "    \n",
    "    if len(palavra) > 4:\n",
    "        \n",
    "        print(palavra)\n",
    "        \n"
   ]
  },
  {
   "cell_type": "code",
   "execution_count": null,
   "id": "25e4e473",
   "metadata": {},
   "outputs": [],
   "source": []
  },
  {
   "cell_type": "code",
   "execution_count": 8,
   "id": "0597c7db",
   "metadata": {},
   "outputs": [
    {
     "name": "stdout",
     "output_type": "stream",
     "text": [
      "1 * 1 = 1\n",
      "1 * 2 = 2\n",
      "1 * 3 = 3\n",
      "2 * 1 = 2\n",
      "2 * 2 = 4\n",
      "2 * 3 = 6\n",
      "3 * 1 = 3\n",
      "3 * 2 = 6\n",
      "3 * 3 = 9\n",
      "\n"
     ]
    }
   ],
   "source": [
    "# For Nested Loops\n",
    "\"\"\"\n",
    "For Nested Loops refere-se à prática de aninhar um ou mais loops for\n",
    "dentro de outro loop for. Em outras palavras, é quando você tem um loop\n",
    "for dentro do corpo de outro loop for. Esse conceito é aplicável em\n",
    "várias linguagens de programação, incluindo Python.\n",
    "\"\"\"\n",
    "\n",
    "# Exemplo de Loops aninhados\n",
    "# Inicia o Loop externo, iterando a variável 'i' de 1 a 3 (o valor 4 é exclusivo)\n",
    "for linha in range(1, 4):\n",
    "    \n",
    "    # Inicia o Loop interno, iterando a variável 'j' de 1 a 3 (o valor final\n",
    "    # 4 é exclusivo) para cada valor de 'i'\n",
    "    for coluna in range(1, 4):\n",
    "        \n",
    "        # Imprime o produto de 'i' e 'j', junto com os valores de 'i' e 'j'\n",
    "        # e os símbolos de multiplicação e igual\n",
    "        print(f\"{linha} * {coluna} = {linha * coluna}\")\n",
    "\n",
    "\"\"\"\n",
    "Explicação:\n",
    "\n",
    "    Loop Externo For: O loop externo for i in range(1, 4) iterará sobre a\n",
    "    sequência de números inteiros de 1 a 3 (inclusive). A variável de loop i\n",
    "    assumirá esses valores, um de cada vez.\n",
    "    \n",
    "    Loop Interno For: Dentro do loop externo, há outro loop for, denotado por\n",
    "    for j in range(1, 4). Este loop interno iterará sobre a mesma sequência de\n",
    "    números inteiros de 1 a 3 (inclusive). A variável de loop j assumirá esses\n",
    "    valores, um de cada vez.\n",
    "    \n",
    "    Corpo do Loop Interno: Dentro do loop interno, há uma única instrução:\n",
    "    \n",
    "        Imprimir Multiplicação: A função print(i, '*', j, '=', i*j) imprime\n",
    "        a expressão de multiplicação atual e seu resultado. Por exemplo, se\n",
    "        i é 2 e j é 3, ele imprimirá 2*3=6.\n",
    "        \n",
    "    Execução dos Loops Aninhados: O loop interno será executado completamente \n",
    "    para cada valor de i no loop externo. Como ambos os loops variam de 1 a 3,\n",
    "    haverá um total de 3x3=9 iterações para o loop interno.\n",
    "\"\"\"\n",
    "print()\n"
   ]
  },
  {
   "cell_type": "code",
   "execution_count": null,
   "id": "a8ba2271",
   "metadata": {},
   "outputs": [],
   "source": []
  },
  {
   "cell_type": "code",
   "execution_count": 18,
   "id": "753eae34",
   "metadata": {},
   "outputs": [
    {
     "name": "stdout",
     "output_type": "stream",
     "text": [
      "[1, 9, 25, 49, 81]\n",
      "[0, 4, 16, 36, 64, 100]\n",
      "\n",
      "[1, 9, 25, 49, 81]\n",
      "[0, 4, 16, 36, 64, 100]\n"
     ]
    }
   ],
   "source": [
    "\"\"\"\n",
    "Compreensão de lista (list comprehension) em Python, que é uma maneira\n",
    "concisa de criar listas. Aqui está um exemplo que combina um for e um\n",
    "if em uma única linha para criar uma lista de quadrados dos números\n",
    "ímpares de 0 a 10:\n",
    "\"\"\"\n",
    "\n",
    "quadrados_impares = [x ** 2 for x in range(11) if x % 2 != 0]\n",
    "quadrados_pares = [x ** 2 for x in range(11) if x % 2 == 0]\n",
    "\n",
    "print(quadrados_impares)\n",
    "print(quadrados_pares)\n",
    "\n",
    "\"\"\"\n",
    "Ao executar este código, a lista quadrados_impares conterá os valores\n",
    "[1, 9, 25, 49, 81], que são os quadrados dos números ímpares entre 0 e 10.\n",
    "\n",
    "Explicando o código:\n",
    "\n",
    "    Vamos destrinchar a compreensão de lista \n",
    "    [x**2 for x in range(11) if x % 2 != 0]:\n",
    "    \n",
    "    for x in range(11): Esta é a parte principal do loop. Ela vai iterar\n",
    "    sobre os números de 0 a 10 (isso é o que range(11) faz).\n",
    "    \n",
    "    if x % 2 != 0: Esta é a condição de filtragem. A expressão x % 2\n",
    "    retorna o resto da divisão de x por 2. Se xo for ímpar, esse resto será \n",
    "    diferente de 0. Portanto, esta condição verifica se x é ímpar.\n",
    "    \n",
    "    x**2: Esta é a expressão que será avaliada para cada x que satisfaça\n",
    "    a condição acima. Ou seja, para cada número ímpar x no intervalo de\n",
    "    0 a 10, esta expressão calculará seu quadrado.\n",
    "    \n",
    "Agora, vamor converter essa compreensão de lista em um loop for tradicional:\n",
    "\n",
    "    quadrados_impares = [] # Lista vazia para armazenar os quadrados\n",
    "    dos números ímpares\n",
    "    \n",
    "    for x in range(11): # Itera sobre os números de 0 a 10\n",
    "    \n",
    "        if x % 2 != 0 # Verifica se x é ímpar\n",
    "        \n",
    "            quadrados_impares.append(x**2) # Calcula o quadrado de x e\n",
    "            adiciona à lista\n",
    "            \n",
    "    print(quadrados_impares)\n",
    "    \n",
    "    No final deste loop, a lista quadrados_impares terá os mesmos valores\n",
    "    que a compreensão de lista original produziria: [1, 9, 25, 49, 81, 100].\n",
    "\"\"\"\n",
    "print()\n",
    "\n",
    "quadrados_impares = [] # zerar a variável\n",
    "\n",
    "for x in range(11): # Itera sobre os números de 0 a 10\n",
    "    \n",
    "        if x % 2 != 0: # Verifica se x é ímpar\n",
    "        \n",
    "            quadrados_impares.append(x**2) # Calcula o quadrado de x e\n",
    "            #adiciona à lista\n",
    "            \n",
    "print(quadrados_impares)\n",
    "print(quadrados_pares)\n"
   ]
  },
  {
   "cell_type": "code",
   "execution_count": null,
   "id": "3915962a",
   "metadata": {},
   "outputs": [],
   "source": []
  },
  {
   "cell_type": "code",
   "execution_count": 21,
   "id": "3eca8b89",
   "metadata": {},
   "outputs": [
    {
     "name": "stdout",
     "output_type": "stream",
     "text": [
      "['H', 'l', 'l', ' ', 'W', 'r', 'l', 'd']\n",
      "['H', 'l', 'l', ' ', 'W', 'r', 'l', 'd']\n"
     ]
    }
   ],
   "source": [
    "texto = 'Hello World'\n",
    "consoantes = [char for char in texto if char.lower() not in 'aeiou']\n",
    "\n",
    "print(consoantes)\n",
    "\n",
    "\n",
    "consoantes_exemplo2 = []\n",
    "\n",
    "for char in texto:\n",
    "    \n",
    "    if char.lower() not in 'aeiou':\n",
    "        \n",
    "        consoantes_exemplo2.append(char)\n",
    "\n",
    "print(consoantes_exemplo2)\n"
   ]
  },
  {
   "cell_type": "code",
   "execution_count": null,
   "id": "5fcb5941",
   "metadata": {},
   "outputs": [],
   "source": []
  },
  {
   "cell_type": "code",
   "execution_count": 1,
   "id": "b8b4784a",
   "metadata": {},
   "outputs": [
    {
     "name": "stdout",
     "output_type": "stream",
     "text": [
      "Digite um número inteiro não negativo: 5\n",
      "O fatorial de 5 é: 120\n"
     ]
    }
   ],
   "source": [
    "\"\"\"\n",
    "\n",
    "Exercício\n",
    "\n",
    "Crie um programa em Python que solicite ao usuário que digite um número\n",
    "inteiro não negativo. Em seguida, calcule e exiba o fatorial desse\n",
    "número.\n",
    "\"\"\"\n",
    "\n",
    "numero = int(input(\"Digite um número inteiro não negativo: \"))\n",
    "\n",
    "fatorial = 1\n",
    "\n",
    "for i in range(1, numero+1):\n",
    "    \n",
    "    fatorial *= i\n",
    "    \n",
    "print(f\"O fatorial de {numero} é: {fatorial}\")\n"
   ]
  },
  {
   "cell_type": "code",
   "execution_count": 12,
   "id": "e7f049cb",
   "metadata": {},
   "outputs": [
    {
     "name": "stdout",
     "output_type": "stream",
     "text": [
      "* * * * * \n",
      "* * * * * \n",
      "* * * * * \n",
      "\n"
     ]
    }
   ],
   "source": [
    "rows = 3\n",
    "cols = 5\n",
    "\n",
    "retangulo = f\"{('* ' * cols + '\\n') * rows}\"\n",
    "\n",
    "print(retangulo)\n"
   ]
  },
  {
   "cell_type": "code",
   "execution_count": 14,
   "id": "61a1e513",
   "metadata": {},
   "outputs": [
    {
     "name": "stdout",
     "output_type": "stream",
     "text": [
      "* * * * * \n",
      "* * * * * \n",
      "* * * * * \n",
      "\n"
     ]
    }
   ],
   "source": [
    "# For - Criando um Retângulo\n",
    "\n",
    "largura = 5\n",
    "altura = 3\n",
    "\n",
    "for i in range(altura):\n",
    "    \n",
    "    for j in range(largura):\n",
    "        \n",
    "        print(\"*\", end=\" \")\n",
    "        \n",
    "    print()\n",
    "\n",
    "\n",
    "\"\"\"\n",
    "O código usa dois loops for aninhados para criar e imprimir um retânglo\n",
    "feito de caracteres asteriscos (*). A largura e a altura do retângulo\n",
    "são definidas pelas variáveis largura e altura.\n",
    "\n",
    "Explicação:\n",
    "\n",
    "    Definindo Largura e Altura: As variáveis largura e altura são\n",
    "    definidas como 5 e 3, respectivamente. Elas determinam as dimensões\n",
    "    do retângulo.\n",
    "    \n",
    "    Loop Externo For: O loop externo for i in range(altura) itera\n",
    "    altura vezes, controlando o número de linhas do retângulo.\n",
    "    \n",
    "    Loop Interno For: Dentro do loop externo, há um loop interno for j\n",
    "    in range(largura), que itera largura vezes, controlando o número de\n",
    "    colunas do retêngulo.\n",
    "    \n",
    "    Imprimir Caractere e Espaço: Dentro do loop interno, a função \n",
    "    print(\"*\", end=\" \") imprime o caractere asterisco (*) seguido de\n",
    "    um espaço. O argumento end=\" \" garante que o próximo caractere seja\n",
    "    impresso em uma nova linha.\n",
    "    \n",
    "    Avançar para a Próxima Linha: Após imprimir uma linha completa (loop \n",
    "    interno), a função print() sem argumentos é chamada. Isso serve para\n",
    "    avançar para a próxima linha, permitindo que o próximo conjunto de\n",
    "    asteriscos seja impresso em uma nova linha.\n",
    "    \n",
    "    Execução dos Loops Aninhados: O loop interno será executado completamente\n",
    "    para cada iteração do loop externo, criando o padrão retangular desejado.\n",
    "    \n",
    "    O código ilustra o conceito de loops aninhados em Python e como eles\n",
    "    podem ser usados para criar padrões e formas geométricas. É um exemplo\n",
    "    comum de manipulação de loops para produzir saídas visuais.\n",
    "\"\"\"\n",
    "print()\n"
   ]
  },
  {
   "cell_type": "code",
   "execution_count": null,
   "id": "2c7209e4",
   "metadata": {},
   "outputs": [],
   "source": []
  },
  {
   "cell_type": "code",
   "execution_count": 19,
   "id": "457520f4",
   "metadata": {},
   "outputs": [
    {
     "name": "stdout",
     "output_type": "stream",
     "text": [
      "    *\n",
      "\n",
      "   ***\n",
      "\n",
      "  *****\n",
      "\n",
      " *******\n",
      "\n",
      "*********\n",
      "\n"
     ]
    }
   ],
   "source": [
    "# Criando um triângulo com a ponta no meio usando Loops For\n",
    "\n",
    "altura = 5\n",
    "\n",
    "for i in range(altura):\n",
    "    \n",
    "    espaços = altura -i -1\n",
    "    asteriscos = 2 * i + 1\n",
    "    \n",
    "    print(\" \" * espaços + \"*\" * asteriscos)\n",
    "\n",
    "    \"\"\"\n",
    "    altura = É o valor definido anteriormente, representando a altura\n",
    "    do triângulo.\n",
    "    \n",
    "    i: É o contador do loop for, que varia de 0 até o valor de altura -1.\n",
    "    Ou seja, i representa o número da linha atual sendo construída do\n",
    "    triângulo.\n",
    "    \n",
    "    Agora, vamor entender a fórmula altura -i -1:\n",
    "    \n",
    "        O valor de i começa em 0 e aumenta em cada iteração até altura - 1.\n",
    "        Isso significa que na primeira iteração (i = 0), estamos construindo\n",
    "        a linha de número 1 do triângulo, na segunda iteração (i = 1), a\n",
    "        linha de número 2, e assim por diante.\n",
    "        \n",
    "        Para cada linha sendo construída, queremos adicionar espaços no início\n",
    "        para criar o efeito de triangulação. A quantidade de espaços em cada linha\n",
    "        depende da posição da linha em relação ao topo do triângulo. Ou seja,\n",
    "        quanto mais perto do topo, mais espaços precisamos adicionar.\n",
    "        \n",
    "        Para entender como a fórmula altura -i -1 funciona, vamor considerar o\n",
    "        exemplo com altura = 5:\n",
    "        \n",
    "        Para a primeira linha (i = 0), temos: espaços = 5 - 0 - 1 = 4. Isso\n",
    "        significa que devemos adicionar 4 espaços antes do primeiro asterísco\n",
    "        na primeira linha.\n",
    "        \n",
    "        Paraa segunda linha (i = 1), temos: espacos = 5 - 1 -1 = 3. Nesse\n",
    "        caso, adicionamos 3 espaços antes do primeiro asterísco na segunda linha.\n",
    "        \n",
    "        Para a terceira linha (i = 2), temos: espacos = 5 -2 - 1 = 2. Adicionamos\n",
    "        2 espaços antes do primeiro asterísco na terceira linha.\n",
    "        \n",
    "        E assim por diante...\n",
    "        \n",
    "        À medida que o valor de i aumenta, a quantidade de espaços diminui,\n",
    "        pois estamos construindo linhas mais próximas da base do triângulo.\n",
    "    \"\"\"\n",
    "    print()"
   ]
  }
 ],
 "metadata": {
  "kernelspec": {
   "display_name": "Python 3 (ipykernel)",
   "language": "python",
   "name": "python3"
  },
  "language_info": {
   "codemirror_mode": {
    "name": "ipython",
    "version": 3
   },
   "file_extension": ".py",
   "mimetype": "text/x-python",
   "name": "python",
   "nbconvert_exporter": "python",
   "pygments_lexer": "ipython3",
   "version": "3.12.3"
  }
 },
 "nbformat": 4,
 "nbformat_minor": 5
}
