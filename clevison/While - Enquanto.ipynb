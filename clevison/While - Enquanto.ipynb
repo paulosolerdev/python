{
 "cells": [
  {
   "cell_type": "code",
   "execution_count": 1,
   "id": "c97ff8ab",
   "metadata": {},
   "outputs": [
    {
     "name": "stdout",
     "output_type": "stream",
     "text": [
      "1\n",
      "2\n",
      "3\n",
      "4\n",
      "\n",
      "10\n",
      "8\n",
      "6\n",
      "4\n",
      "2\n"
     ]
    }
   ],
   "source": [
    "#While Loops\n",
    "#While - Enquanto\n",
    "\n",
    "numero = 1\n",
    "\n",
    "while numero < 5:\n",
    "    \n",
    "    print(numero)\n",
    "    \n",
    "    numero += 1\n",
    "\n",
    "\n",
    "print()\n",
    "\n",
    "\n",
    "contador = 10\n",
    "\n",
    "while contador >= 1:\n",
    "    \n",
    "    print(contador)\n",
    "    \n",
    "    contador -= 2\n"
   ]
  },
  {
   "cell_type": "code",
   "execution_count": null,
   "id": "df77ca3b",
   "metadata": {},
   "outputs": [],
   "source": []
  },
  {
   "cell_type": "code",
   "execution_count": 9,
   "id": "0ed8ebb3",
   "metadata": {},
   "outputs": [
    {
     "name": "stdout",
     "output_type": "stream",
     "text": [
      "Número 1\n",
      "Número 2\n",
      "Número 3\n",
      "Número 4\n",
      "Número 5\n",
      "Número 6\n",
      "Número 7\n",
      "Número 8\n",
      "Número 9\n",
      "Número 10\n",
      "Números impressos com sucesso!\n"
     ]
    }
   ],
   "source": [
    "contador = 0\n",
    "\n",
    "while contador < 10:\n",
    "    \n",
    "    contador += 1\n",
    "    \n",
    "    print(f\"Número {contador}\")\n",
    "\n",
    "else:\n",
    "    \n",
    "    print(f\"Números impressos com sucesso!\")\n"
   ]
  },
  {
   "cell_type": "code",
   "execution_count": 11,
   "id": "352df621",
   "metadata": {},
   "outputs": [
    {
     "name": "stdout",
     "output_type": "stream",
     "text": [
      "1\n",
      "2\n",
      "3\n",
      "4\n",
      "5\n"
     ]
    }
   ],
   "source": [
    "numero = 1\n",
    "\n",
    "while numero < 100:\n",
    "    \n",
    "    print(numero)\n",
    "    \n",
    "    if numero == 5:\n",
    "        break\n",
    "        \n",
    "    numero += 1\n",
    "    \n"
   ]
  },
  {
   "cell_type": "code",
   "execution_count": 13,
   "id": "cd40cc5d",
   "metadata": {},
   "outputs": [
    {
     "name": "stdout",
     "output_type": "stream",
     "text": [
      "Linha: 0 - Coluna: 0\n",
      "Linha: 0 - Coluna: 1\n",
      "Linha: 0 - Coluna: 2\n",
      "Linha: 1 - Coluna: 0\n",
      "Linha: 1 - Coluna: 1\n",
      "Linha: 1 - Coluna: 2\n",
      "Linha: 2 - Coluna: 0\n",
      "Linha: 2 - Coluna: 1\n",
      "Linha: 2 - Coluna: 2\n"
     ]
    }
   ],
   "source": [
    "linha = 0\n",
    "\n",
    "while linha < 3:\n",
    "    \n",
    "    coluna = 0\n",
    "    \n",
    "    while coluna < 3:\n",
    "        \n",
    "        print(f\"Linha: {linha} - Coluna: {coluna}\")\n",
    "        \n",
    "        coluna += 1\n",
    "        \n",
    "    linha += 1\n",
    "    \n"
   ]
  },
  {
   "cell_type": "code",
   "execution_count": 15,
   "id": "a0ecda20",
   "metadata": {},
   "outputs": [
    {
     "name": "stdout",
     "output_type": "stream",
     "text": [
      "Digite um número maior que 1: 5\n",
      "1\n",
      "2\n",
      "3\n",
      "4\n",
      "5\n"
     ]
    }
   ],
   "source": [
    "numeroInicial = 1\n",
    "\n",
    "numeroFinal = int(input(\"Digite um número maior que 1: \"))\n",
    "\n",
    "while numeroInicial <= numeroFinal:\n",
    "    \n",
    "    print(numeroInicial)\n",
    "    \n",
    "    numeroInicial += 1\n",
    "    \n"
   ]
  },
  {
   "cell_type": "code",
   "execution_count": 2,
   "id": "3e7d1075",
   "metadata": {},
   "outputs": [
    {
     "name": "stdout",
     "output_type": "stream",
     "text": [
      "Digite um inteiro maior que 1: 5\n",
      "Números pares entre 1 e 5:\n",
      "2 4 "
     ]
    }
   ],
   "source": [
    "numero = 1\n",
    "\n",
    "max = int(input(\"Digite um inteiro maior que 1: \"))\n",
    "\n",
    "print(f\"Números pares entre 1 e {max}:\")\n",
    "\n",
    "while numero <= max:\n",
    "    \n",
    "    if numero % 2 == 0:\n",
    "        \n",
    "        print(numero, end=\" \")\n",
    "        \n",
    "    numero += 1\n"
   ]
  },
  {
   "cell_type": "code",
   "execution_count": 9,
   "id": "e89a7b70",
   "metadata": {},
   "outputs": [
    {
     "name": "stdout",
     "output_type": "stream",
     "text": [
      "Digite sua senha: 45\n",
      "Senha incorreta, tente novamente!\n",
      "Digite sua senha: 123\n",
      "Muito bem! Você digitou a senha correta!\n"
     ]
    }
   ],
   "source": [
    "\"\"\"\n",
    "\n",
    "Exercício:\n",
    "\n",
    "Crie um algoritmo que solicite ao usuário uma senha, e só sai do\n",
    "looping do While quando for digitado a senha corretamente.\n",
    "\n",
    "\"\"\"\n",
    "senhaSistema = \"123\"\n",
    "\n",
    "senhaDigitada = input(\"Digite sua senha: \")\n",
    "\n",
    "while (senhaSistema != senhaDigitada):\n",
    "    \n",
    "    print(\"Senha incorreta, tente novamente!\")\n",
    "    \n",
    "    senhaDigitada = input(\"Digite sua senha: \")\n",
    "    \n",
    "print(\"Muito bem! Você digitou a senha correta!\")"
   ]
  },
  {
   "cell_type": "code",
   "execution_count": 11,
   "id": "db8e18c5",
   "metadata": {},
   "outputs": [
    {
     "name": "stdout",
     "output_type": "stream",
     "text": [
      "Digite 'sair' para encerrar: sair\n"
     ]
    }
   ],
   "source": [
    "while True:\n",
    "    \n",
    "    usuario = input(\"Digite 'sair' para encerrar: \")\n",
    "    \n",
    "    if usuario == 'sair':\n",
    "        \n",
    "        break\n",
    "        "
   ]
  },
  {
   "cell_type": "code",
   "execution_count": 16,
   "id": "943f334f",
   "metadata": {},
   "outputs": [
    {
     "name": "stdout",
     "output_type": "stream",
     "text": [
      "75\n",
      "Digite o seu palpite: 75\n",
      "Parabéns! Você acertou o número secreto 75 em 1 tentativas.\n"
     ]
    }
   ],
   "source": [
    "import random\n",
    "\n",
    "numero_secreto = random.randint(1, 100)\n",
    "tentativas = 0\n",
    "\n",
    "print(numero_secreto)\n",
    "\n",
    "while True:\n",
    "    \n",
    "    palpite = int(input(\"Digite o seu palpite: \"))\n",
    "    tentativas += 1\n",
    "    \n",
    "    if palpite < numero_secreto:\n",
    "        \n",
    "        print(\"O número secreto é maior. Tente novamente!\")\n",
    "    \n",
    "    elif palpite > numero_secreto:\n",
    "        \n",
    "        print(\"O número secreto é menor. Tente novamente!\")\n",
    "        \n",
    "    else:\n",
    "        \n",
    "        print(f\"Parabéns! Você acertou o número secreto {numero_secreto} em {tentativas} tentativas.\")\n",
    "     \n",
    "        break\n"
   ]
  },
  {
   "cell_type": "code",
   "execution_count": 20,
   "id": "ae2862fd",
   "metadata": {},
   "outputs": [
    {
     "name": "stdout",
     "output_type": "stream",
     "text": [
      "Digite um número ou 0 para sair: 0\n",
      "Total: 0\n"
     ]
    }
   ],
   "source": [
    "\"\"\"\n",
    "\n",
    "Exercício:\n",
    "\n",
    "Crie um algoritmo que leia n números inteiros digitados pelo usuário,\n",
    "e só pare quando o usuário digite 0.\n",
    "\n",
    "No final, imprima na tela a soma de todos os números digitados.\n",
    "\"\"\"\n",
    "\n",
    "somaNumerosDigitados = 0\n",
    "\n",
    "numero = int(input(\"Digite um número ou 0 para sair: \"))\n",
    "\n",
    "while numero != 0:\n",
    "    \n",
    "    somaNumerosDigitados += numero\n",
    "    \n",
    "    numero = int(input(\"Digite um número ou 0 para sair: \"))\n",
    "\n",
    "print(f\"Total: {somaNumerosDigitados}\")\n"
   ]
  },
  {
   "cell_type": "code",
   "execution_count": null,
   "id": "b8b58646",
   "metadata": {},
   "outputs": [],
   "source": [
    "\"\"\"\n",
    "\n",
    "Exercício:\n",
    "\n",
    "Crie um algoritmo/ que leia números inteiros positivos digitados pelo\n",
    "usuário até que o usuário digite um número menor que 0. No final, \n",
    "imprima o maior número digitado.\n",
    "\n",
    "\"\"\"\n",
    "maiorNumero = -1\n",
    "\n",
    "numeroDigitado = int(input(\"Digite um número inteiro e maior que 0: \"))\n",
    "\n",
    "while numeroDigitado >= 0:\n",
    "    \n",
    "    if numeroDigitado > maiorNumero:\n",
    "        \n",
    "        maiorNumero = numeroDigitado\n",
    "        \n",
    "    numeroDigitado = int(input(\"Digite um número inteiro e maior que 0: \"))\n",
    "\n",
    "print(f\"Maior número: {maiorNumero}\")\n"
   ]
  },
  {
   "cell_type": "code",
   "execution_count": 1,
   "id": "29150631",
   "metadata": {},
   "outputs": [
    {
     "name": "stdout",
     "output_type": "stream",
     "text": [
      "\n",
      "Caixa Eletrônico\n",
      "1 - Verificar saldo\n",
      "2 - Depositar Dinheiro\n",
      "3 - Sacar Dinheiro\n",
      "4 - Sair\n",
      "Escolha uma opção (1-4): 1\n",
      "Seu saldo é: R$ 1000.00\n",
      "\n",
      "Caixa Eletrônico\n",
      "1 - Verificar saldo\n",
      "2 - Depositar Dinheiro\n",
      "3 - Sacar Dinheiro\n",
      "4 - Sair\n",
      "Escolha uma opção (1-4): 2\n",
      "Digite o valor do depósito: R$ 5000\n",
      "Depósito de: R$ 5000.00 realizado com sucesso!\n",
      "\n",
      "Caixa Eletrônico\n",
      "1 - Verificar saldo\n",
      "2 - Depositar Dinheiro\n",
      "3 - Sacar Dinheiro\n",
      "4 - Sair\n",
      "Escolha uma opção (1-4): 2\n",
      "Digite o valor do depósito: R$ 500000000\n",
      "Depósito de: R$ 500000000.00 realizado com sucesso!\n",
      "\n",
      "Caixa Eletrônico\n",
      "1 - Verificar saldo\n",
      "2 - Depositar Dinheiro\n",
      "3 - Sacar Dinheiro\n",
      "4 - Sair\n",
      "Escolha uma opção (1-4): 1\n",
      "Seu saldo é: R$ 500006000.00\n",
      "\n",
      "Caixa Eletrônico\n",
      "1 - Verificar saldo\n",
      "2 - Depositar Dinheiro\n",
      "3 - Sacar Dinheiro\n",
      "4 - Sair\n",
      "Escolha uma opção (1-4): 3\n",
      "Digite o valor do saque: R$ 500000\n",
      "Saque de: R$ 500000000.00 realizado com sucesso!\n",
      "\n",
      "Caixa Eletrônico\n",
      "1 - Verificar saldo\n",
      "2 - Depositar Dinheiro\n",
      "3 - Sacar Dinheiro\n",
      "4 - Sair\n",
      "Escolha uma opção (1-4): 1\n",
      "Seu saldo é: R$ 6000.00\n",
      "\n",
      "Caixa Eletrônico\n",
      "1 - Verificar saldo\n",
      "2 - Depositar Dinheiro\n",
      "3 - Sacar Dinheiro\n",
      "4 - Sair\n",
      "Escolha uma opção (1-4): 4\n",
      "Obrigado por utilizar o nosso caixa eletrônico. Até mais!\n"
     ]
    }
   ],
   "source": [
    "saldo = 1000.00 # Define o saldo inicial da conta\n",
    "\n",
    "# Inicia um loop infinito que continuará até que o usuário escolha a opção se sair\n",
    "while True:\n",
    "    \n",
    "    #Imprime as opções do menu disponíveis para o usuário\n",
    "    print(\"\\nCaixa Eletrônico\")\n",
    "    print(\"1 - Verificar saldo\")\n",
    "    print(\"2 - Depositar Dinheiro\")\n",
    "    print(\"3 - Sacar Dinheiro\")\n",
    "    print(\"4 - Sair\")\n",
    "    \n",
    "    opcao = input(\"Escolha uma opção (1-4): \") # Solicita que o usuário escolha uma opção\n",
    "    \n",
    "    # Verifica a opção escolhida pelo usuário e executa a ação correspondente\n",
    "    if opcao == \"1\":\n",
    "        \n",
    "        print(f\"Seu saldo é: R$ {saldo:.2f}\") # Imprime o saldo atual da conta\n",
    "        \n",
    "    elif opcao == \"2\":\n",
    "        \n",
    "        deposito = float(input(\"Digite o valor do depósito: R$ \")) # Solicita o valor do depósito\n",
    "        \n",
    "        if deposito > 0: # Verifica se o valor do depósito é positivo\n",
    "            \n",
    "            saldo += deposito # Adiciona o valor do depósito ao saldo\n",
    "            \n",
    "            print(f\"Depósito de: R$ {deposito:.2f} realizado com sucesso!\") # Confirma o depósito\n",
    "            \n",
    "        else:\n",
    "            \n",
    "            print(f\"Valor de depósito inválido.\") # Informa que o valor do depósito é inválido\n",
    "    \n",
    "    elif opcao == \"3\":\n",
    "        \n",
    "        saque = float(input(\"Digite o valor do saque: R$ \")) # Solicita o valor do saque\n",
    "        \n",
    "        if saque > 0 and saque <= saldo: # Verifica se o valor é válido e se há saldo suficiente\n",
    "            \n",
    "            saldo -= deposito # Subtrai o valor do saque do saldo\n",
    "            \n",
    "            print(f\"Saque de: R$ {deposito:.2f} realizado com sucesso!\") # Confirma o saque\n",
    "            \n",
    "        else:\n",
    "            \n",
    "            print(f\"Valor do saque inválido ou saldo insuficiente.\") # Informa que o valor do saque é inválido ou não há saldo suficiente\n",
    "    \n",
    "    elif opcao == \"4\":\n",
    "        \n",
    "        print(\"Obrigado por utilizar o nosso caixa eletrônico. Até mais!\") # Agradece o usuário e prepara-se para sair do loop\n",
    "        \n",
    "        break # Sai do loop, terminando o programa\n",
    "        \n",
    "    else:\n",
    "        \n",
    "        print(\"Opção inválida. Por favor, tente novamente!\") # Informa ao usuário que ele escolheu uma opção inválida\n"
   ]
  },
  {
   "cell_type": "code",
   "execution_count": 1,
   "id": "4992ff73",
   "metadata": {},
   "outputs": [
    {
     "name": "stdout",
     "output_type": "stream",
     "text": [
      "\n",
      "Calculadora Simples: \n",
      "1 - Adição\n",
      "2 - Subtração\n",
      "3 - Multiplicação\n",
      "4 - Divisão\n",
      "5 - Sair\n",
      "Informe a operação (1-5): 1\n",
      "Digite o primeiro número: 12\n",
      "Digite o segundo número: 2\n",
      "Resultado: 14.0\n",
      "\n",
      "Calculadora Simples: \n",
      "1 - Adição\n",
      "2 - Subtração\n",
      "3 - Multiplicação\n",
      "4 - Divisão\n",
      "5 - Sair\n",
      "Informe a operação (1-5): 2\n",
      "Digite o primeiro número: 22\n",
      "Digite o segundo número: 2\n",
      "Resultado: 20.0\n",
      "\n",
      "Calculadora Simples: \n",
      "1 - Adição\n",
      "2 - Subtração\n",
      "3 - Multiplicação\n",
      "4 - Divisão\n",
      "5 - Sair\n",
      "Informe a operação (1-5): 3\n",
      "Digite o primeiro número: 2\n",
      "Digite o segundo número: 2\n",
      "Resultado: 4.0\n",
      "\n",
      "Calculadora Simples: \n",
      "1 - Adição\n",
      "2 - Subtração\n",
      "3 - Multiplicação\n",
      "4 - Divisão\n",
      "5 - Sair\n",
      "Informe a operação (1-5): 4\n",
      "Digite o primeiro número: 4\n",
      "Digite o segundo número: 0\n",
      "Erro: Divisão por zero não é permitida.\n",
      "\n",
      "Calculadora Simples: \n",
      "1 - Adição\n",
      "2 - Subtração\n",
      "3 - Multiplicação\n",
      "4 - Divisão\n",
      "5 - Sair\n",
      "Informe a operação (1-5): 4\n",
      "Digite o primeiro número: 4\n",
      "Digite o segundo número: 2\n",
      "Resultado: 2.0\n",
      "\n",
      "Calculadora Simples: \n",
      "1 - Adição\n",
      "2 - Subtração\n",
      "3 - Multiplicação\n",
      "4 - Divisão\n",
      "5 - Sair\n",
      "Informe a operação (1-5): 5\n",
      "Até mais!\n"
     ]
    }
   ],
   "source": [
    "while True:\n",
    "    print(\"\\nCalculadora Simples: \")\n",
    "    print(\"1 - Adição\")\n",
    "    print(\"2 - Subtração\")\n",
    "    print(\"3 - Multiplicação\")\n",
    "    print(\"4 - Divisão\")\n",
    "    print(\"5 - Sair\")\n",
    "\n",
    "    opcao = input(\"Informe a operação (1-5): \")\n",
    "\n",
    "    if opcao == \"5\":\n",
    "        print(\"Até mais!\")\n",
    "        break\n",
    "\n",
    "    if opcao in [\"1\", \"2\", \"3\", \"4\"]:\n",
    "        try:\n",
    "            numero1 = float(input(\"Digite o primeiro número: \"))\n",
    "            numero2 = float(input(\"Digite o segundo número: \"))\n",
    "            \n",
    "            if opcao == \"1\":\n",
    "                resultado = numero1 + numero2\n",
    "                print(f\"Resultado: {resultado}\")\n",
    "            elif opcao == \"2\":\n",
    "                resultado = numero1 - numero2\n",
    "                print(f\"Resultado: {resultado}\")\n",
    "            elif opcao == \"3\":\n",
    "                resultado = numero1 * numero2\n",
    "                print(f\"Resultado: {resultado}\")\n",
    "            elif opcao == \"4\":\n",
    "                if numero2 == 0:\n",
    "                    print(\"Erro: Divisão por zero não é permitida.\")\n",
    "                else:\n",
    "                    resultado = numero1 / numero2\n",
    "                    print(f\"Resultado: {resultado}\")\n",
    "        except ValueError:\n",
    "            print(\"Erro: Por favor, insira números válidos.\")\n",
    "    else:\n",
    "        print(\"Opção inválida. Tente novamente.\")\n"
   ]
  },
  {
   "cell_type": "code",
   "execution_count": 3,
   "id": "dc9e9c8b",
   "metadata": {},
   "outputs": [
    {
     "name": "stdout",
     "output_type": "stream",
     "text": [
      "x: 5, y: 15\n",
      "x: 6, y: 14\n",
      "x: 7, y: 13\n",
      "x: 8, y: 12\n",
      "x: 9, y: 11\n",
      "Loop concluído\n",
      "Valores finais -> x: 10, y: 10\n"
     ]
    }
   ],
   "source": [
    "# While usando uma condição complexa\n",
    "\n",
    "x, y = 5, 15\n",
    "\n",
    "while x < 10 and y > 10:\n",
    "    \n",
    "    print(f\"x: {x}, y: {y}\")\n",
    "    \n",
    "    x += 1\n",
    "    \n",
    "    y -= 1\n",
    "    \n",
    "\n",
    "print(\"Loop concluído\")\n",
    "print(f\"Valores finais -> x: {x}, y: {y}\")\n"
   ]
  },
  {
   "cell_type": "code",
   "execution_count": null,
   "id": "e63732f3",
   "metadata": {},
   "outputs": [
    {
     "name": "stdout",
     "output_type": "stream",
     "text": [
      "Tentativas restantes: 5\n"
     ]
    }
   ],
   "source": [
    "numero_secreto1 = 7\n",
    "numero_secreto2 = 3\n",
    "\n",
    "tentativas = 5\n",
    "\n",
    "adivinhou1 = False\n",
    "adivinhou2 = False\n",
    "\n",
    "while tentativas > 0 and (not adivinhou1 == True or not adivinhou2 == True):\n",
    "    \n",
    "    print(f\"Tentativas restantes: {tentativas}\")\n",
    "    \n",
    "    palpite1 = int(input(\"Adivinhe o primeiro número secreto (1-10): \"))\n",
    "    palpite2 = int(input(\"Adivinhe o primeiro número secreto (1-10): \"))    \n",
    "    \n",
    "    if palpite1 == numero_secreto1:\n",
    "        \n",
    "        print(\"Você adivinhou o primeiro número!\")\n",
    "        \n",
    "        adivinhou1 = True\n",
    "        \n",
    "    if palpite2 == numero_secreto2:\n",
    "        \n",
    "        print(\"Você adivinhou o segundo número!\")\n",
    "        \n",
    "        adivinhou2 = True\n",
    "        \n",
    "    if not adivinhou1 == True or not adivinhou2 == True:\n",
    "        \n",
    "        print(\"Tente novamente.\")\n",
    "        \n",
    "        tentativas -= 1\n",
    "        \n",
    "if adivinhou1 == True and adivinhou2 == True:\n",
    "    \n",
    "    print(f\"Parabéns! Você adivinhou ambos os números!\")\n",
    "    \n",
    "else:\n",
    "    \n",
    "    print(f\"Você não conseguiu adivinhar os números. Eles eram {numero_secreto1} e {numero_secreto2}\")\n"
   ]
  },
  {
   "cell_type": "code",
   "execution_count": 5,
   "id": "a16efc44",
   "metadata": {},
   "outputs": [
    {
     "name": "stdout",
     "output_type": "stream",
     "text": [
      "Digite quantos números ímpares você deseja somar: 40\n",
      "A soma dos primeiros 40 números ímpares é: 1600\n"
     ]
    }
   ],
   "source": [
    "n = int(input(\"Digite quantos números ímpares você deseja somar: \"))\n",
    "\n",
    "contador = 0\n",
    "soma = 0\n",
    "numero_impar_atual = 1\n",
    "\n",
    "while contador < n:\n",
    "    \n",
    "    soma += numero_impar_atual\n",
    "    contador += 1\n",
    "    numero_impar_atual += 2\n",
    "    \n",
    "print(f\"A soma dos primeiros {n} números ímpares é: {soma}\")\n"
   ]
  }
 ],
 "metadata": {
  "kernelspec": {
   "display_name": "Python 3 (ipykernel)",
   "language": "python",
   "name": "python3"
  },
  "language_info": {
   "codemirror_mode": {
    "name": "ipython",
    "version": 3
   },
   "file_extension": ".py",
   "mimetype": "text/x-python",
   "name": "python",
   "nbconvert_exporter": "python",
   "pygments_lexer": "ipython3",
   "version": "3.12.3"
  }
 },
 "nbformat": 4,
 "nbformat_minor": 5
}
