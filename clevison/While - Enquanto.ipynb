{
 "cells": [
  {
   "cell_type": "code",
   "execution_count": 1,
   "id": "c97ff8ab",
   "metadata": {},
   "outputs": [
    {
     "name": "stdout",
     "output_type": "stream",
     "text": [
      "1\n",
      "2\n",
      "3\n",
      "4\n",
      "\n",
      "10\n",
      "8\n",
      "6\n",
      "4\n",
      "2\n"
     ]
    }
   ],
   "source": [
    "#While Loops\n",
    "#While - Enquanto\n",
    "\n",
    "numero = 1\n",
    "\n",
    "while numero < 5:\n",
    "    \n",
    "    print(numero)\n",
    "    \n",
    "    numero += 1\n",
    "\n",
    "\n",
    "print()\n",
    "\n",
    "\n",
    "contador = 10\n",
    "\n",
    "while contador >= 1:\n",
    "    \n",
    "    print(contador)\n",
    "    \n",
    "    contador -= 2\n"
   ]
  },
  {
   "cell_type": "code",
   "execution_count": null,
   "id": "df77ca3b",
   "metadata": {},
   "outputs": [],
   "source": []
  },
  {
   "cell_type": "code",
   "execution_count": 9,
   "id": "0ed8ebb3",
   "metadata": {},
   "outputs": [
    {
     "name": "stdout",
     "output_type": "stream",
     "text": [
      "Número 1\n",
      "Número 2\n",
      "Número 3\n",
      "Número 4\n",
      "Número 5\n",
      "Número 6\n",
      "Número 7\n",
      "Número 8\n",
      "Número 9\n",
      "Número 10\n",
      "Números impressos com sucesso!\n"
     ]
    }
   ],
   "source": [
    "contador = 0\n",
    "\n",
    "while contador < 10:\n",
    "    \n",
    "    contador += 1\n",
    "    \n",
    "    print(f\"Número {contador}\")\n",
    "\n",
    "else:\n",
    "    \n",
    "    print(f\"Números impressos com sucesso!\")\n"
   ]
  },
  {
   "cell_type": "code",
   "execution_count": 11,
   "id": "352df621",
   "metadata": {},
   "outputs": [
    {
     "name": "stdout",
     "output_type": "stream",
     "text": [
      "1\n",
      "2\n",
      "3\n",
      "4\n",
      "5\n"
     ]
    }
   ],
   "source": [
    "numero = 1\n",
    "\n",
    "while numero < 100:\n",
    "    \n",
    "    print(numero)\n",
    "    \n",
    "    if numero == 5:\n",
    "        break\n",
    "        \n",
    "    numero += 1\n",
    "    \n"
   ]
  },
  {
   "cell_type": "code",
   "execution_count": 13,
   "id": "cd40cc5d",
   "metadata": {},
   "outputs": [
    {
     "name": "stdout",
     "output_type": "stream",
     "text": [
      "Linha: 0 - Coluna: 0\n",
      "Linha: 0 - Coluna: 1\n",
      "Linha: 0 - Coluna: 2\n",
      "Linha: 1 - Coluna: 0\n",
      "Linha: 1 - Coluna: 1\n",
      "Linha: 1 - Coluna: 2\n",
      "Linha: 2 - Coluna: 0\n",
      "Linha: 2 - Coluna: 1\n",
      "Linha: 2 - Coluna: 2\n"
     ]
    }
   ],
   "source": [
    "linha = 0\n",
    "\n",
    "while linha < 3:\n",
    "    \n",
    "    coluna = 0\n",
    "    \n",
    "    while coluna < 3:\n",
    "        \n",
    "        print(f\"Linha: {linha} - Coluna: {coluna}\")\n",
    "        \n",
    "        coluna += 1\n",
    "        \n",
    "    linha += 1\n",
    "    \n"
   ]
  },
  {
   "cell_type": "code",
   "execution_count": 15,
   "id": "a0ecda20",
   "metadata": {},
   "outputs": [
    {
     "name": "stdout",
     "output_type": "stream",
     "text": [
      "Digite um número maior que 1: 5\n",
      "1\n",
      "2\n",
      "3\n",
      "4\n",
      "5\n"
     ]
    }
   ],
   "source": [
    "numeroInicial = 1\n",
    "\n",
    "numeroFinal = int(input(\"Digite um número maior que 1: \"))\n",
    "\n",
    "while numeroInicial <= numeroFinal:\n",
    "    \n",
    "    print(numeroInicial)\n",
    "    \n",
    "    numeroInicial += 1\n",
    "    \n"
   ]
  },
  {
   "cell_type": "code",
   "execution_count": 2,
   "id": "3e7d1075",
   "metadata": {},
   "outputs": [
    {
     "name": "stdout",
     "output_type": "stream",
     "text": [
      "Digite um inteiro maior que 1: 5\n",
      "Números pares entre 1 e 5:\n",
      "2 4 "
     ]
    }
   ],
   "source": [
    "numero = 1\n",
    "\n",
    "max = int(input(\"Digite um inteiro maior que 1: \"))\n",
    "\n",
    "print(f\"Números pares entre 1 e {max}:\")\n",
    "\n",
    "while numero <= max:\n",
    "    \n",
    "    if numero % 2 == 0:\n",
    "        \n",
    "        print(numero, end=\" \")\n",
    "        \n",
    "    numero += 1\n"
   ]
  },
  {
   "cell_type": "code",
   "execution_count": 9,
   "id": "e89a7b70",
   "metadata": {},
   "outputs": [
    {
     "name": "stdout",
     "output_type": "stream",
     "text": [
      "Digite sua senha: 45\n",
      "Senha incorreta, tente novamente!\n",
      "Digite sua senha: 123\n",
      "Muito bem! Você digitou a senha correta!\n"
     ]
    }
   ],
   "source": [
    "\"\"\"\n",
    "\n",
    "Exercício:\n",
    "\n",
    "Crie um algoritmo que solicite ao usuário uma senha, e só sai do\n",
    "looping do While quando for digitado a senha corretamente.\n",
    "\n",
    "\"\"\"\n",
    "senhaSistema = \"123\"\n",
    "\n",
    "senhaDigitada = input(\"Digite sua senha: \")\n",
    "\n",
    "while (senhaSistema != senhaDigitada):\n",
    "    \n",
    "    print(\"Senha incorreta, tente novamente!\")\n",
    "    \n",
    "    senhaDigitada = input(\"Digite sua senha: \")\n",
    "    \n",
    "print(\"Muito bem! Você digitou a senha correta!\")"
   ]
  },
  {
   "cell_type": "code",
   "execution_count": 11,
   "id": "db8e18c5",
   "metadata": {},
   "outputs": [
    {
     "name": "stdout",
     "output_type": "stream",
     "text": [
      "Digite 'sair' para encerrar: sair\n"
     ]
    }
   ],
   "source": [
    "while True:\n",
    "    \n",
    "    usuario = input(\"Digite 'sair' para encerrar: \")\n",
    "    \n",
    "    if usuario == 'sair':\n",
    "        \n",
    "        break\n",
    "        "
   ]
  },
  {
   "cell_type": "code",
   "execution_count": 16,
   "id": "943f334f",
   "metadata": {},
   "outputs": [
    {
     "name": "stdout",
     "output_type": "stream",
     "text": [
      "75\n",
      "Digite o seu palpite: 75\n",
      "Parabéns! Você acertou o número secreto 75 em 1 tentativas.\n"
     ]
    }
   ],
   "source": [
    "import random\n",
    "\n",
    "numero_secreto = random.randint(1, 100)\n",
    "tentativas = 0\n",
    "\n",
    "print(numero_secreto)\n",
    "\n",
    "while True:\n",
    "    \n",
    "    palpite = int(input(\"Digite o seu palpite: \"))\n",
    "    tentativas += 1\n",
    "    \n",
    "    if palpite < numero_secreto:\n",
    "        \n",
    "        print(\"O número secreto é maior. Tente novamente!\")\n",
    "    \n",
    "    elif palpite > numero_secreto:\n",
    "        \n",
    "        print(\"O número secreto é menor. Tente novamente!\")\n",
    "        \n",
    "    else:\n",
    "        \n",
    "        print(f\"Parabéns! Você acertou o número secreto {numero_secreto} em {tentativas} tentativas.\")\n",
    "     \n",
    "        break\n"
   ]
  },
  {
   "cell_type": "code",
   "execution_count": 20,
   "id": "ae2862fd",
   "metadata": {},
   "outputs": [
    {
     "name": "stdout",
     "output_type": "stream",
     "text": [
      "Digite um número ou 0 para sair: 0\n",
      "Total: 0\n"
     ]
    }
   ],
   "source": [
    "\"\"\"\n",
    "\n",
    "Exercício:\n",
    "\n",
    "Crie um algoritmo que leia n números inteiros digitados pelo usuário,\n",
    "e só pare quando o usuário digite 0.\n",
    "\n",
    "No final, imprima na tela a soma de todos os números digitados.\n",
    "\"\"\"\n",
    "\n",
    "somaNumerosDigitados = 0\n",
    "\n",
    "numero = int(input(\"Digite um número ou 0 para sair: \"))\n",
    "\n",
    "while numero != 0:\n",
    "    \n",
    "    somaNumerosDigitados += numero\n",
    "    \n",
    "    numero = int(input(\"Digite um número ou 0 para sair: \"))\n",
    "\n",
    "print(f\"Total: {somaNumerosDigitados}\")\n"
   ]
  },
  {
   "cell_type": "code",
   "execution_count": null,
   "id": "b8b58646",
   "metadata": {},
   "outputs": [],
   "source": [
    "\"\"\"\n",
    "\n",
    "Exercício:\n",
    "\n",
    "Crie um algoritmo/ que leia números inteiros positivos digitados pelo\n",
    "usuário até que o usuário digite um número menor que 0. No final, \n",
    "imprima o maior número digitado.\n",
    "\n",
    "\"\"\"\n",
    "maiorNumero = -1\n",
    "\n",
    "numeroDigitado = int(input(\"Digite um número inteiro e maior que 0: \"))\n",
    "\n",
    "while numeroDigitado >= 0:\n",
    "    \n",
    "    if numeroDigitado > maiorNumero:\n",
    "        \n",
    "        maiorNumero = numeroDigitado\n",
    "        \n",
    "    numeroDigitado = int(input(\"Digite um número inteiro e maior que 0: \"))\n",
    "\n",
    "print(f\"Maior número: {maiorNumero}\")\n"
   ]
  },
  {
   "cell_type": "code",
   "execution_count": 1,
   "id": "29150631",
   "metadata": {},
   "outputs": [
    {
     "name": "stdout",
     "output_type": "stream",
     "text": [
      "\n",
      "Caixa Eletrônico\n",
      "1 - Verificar saldo\n",
      "2 - Depositar Dinheiro\n",
      "3 - Sacar Dinheiro\n",
      "4 - Sair\n",
      "Escolha uma opção (1-4): 1\n",
      "Seu saldo é: R$ 1000.00\n",
      "\n",
      "Caixa Eletrônico\n",
      "1 - Verificar saldo\n",
      "2 - Depositar Dinheiro\n",
      "3 - Sacar Dinheiro\n",
      "4 - Sair\n",
      "Escolha uma opção (1-4): 2\n",
      "Digite o valor do depósito: R$ 5000\n",
      "Depósito de: R$ 5000.00 realizado com sucesso!\n",
      "\n",
      "Caixa Eletrônico\n",
      "1 - Verificar saldo\n",
      "2 - Depositar Dinheiro\n",
      "3 - Sacar Dinheiro\n",
      "4 - Sair\n",
      "Escolha uma opção (1-4): 2\n",
      "Digite o valor do depósito: R$ 500000000\n",
      "Depósito de: R$ 500000000.00 realizado com sucesso!\n",
      "\n",
      "Caixa Eletrônico\n",
      "1 - Verificar saldo\n",
      "2 - Depositar Dinheiro\n",
      "3 - Sacar Dinheiro\n",
      "4 - Sair\n",
      "Escolha uma opção (1-4): 1\n",
      "Seu saldo é: R$ 500006000.00\n",
      "\n",
      "Caixa Eletrônico\n",
      "1 - Verificar saldo\n",
      "2 - Depositar Dinheiro\n",
      "3 - Sacar Dinheiro\n",
      "4 - Sair\n",
      "Escolha uma opção (1-4): 3\n",
      "Digite o valor do saque: R$ 500000\n",
      "Saque de: R$ 500000000.00 realizado com sucesso!\n",
      "\n",
      "Caixa Eletrônico\n",
      "1 - Verificar saldo\n",
      "2 - Depositar Dinheiro\n",
      "3 - Sacar Dinheiro\n",
      "4 - Sair\n",
      "Escolha uma opção (1-4): 1\n",
      "Seu saldo é: R$ 6000.00\n",
      "\n",
      "Caixa Eletrônico\n",
      "1 - Verificar saldo\n",
      "2 - Depositar Dinheiro\n",
      "3 - Sacar Dinheiro\n",
      "4 - Sair\n",
      "Escolha uma opção (1-4): 4\n",
      "Obrigado por utilizar o nosso caixa eletrônico. Até mais!\n"
     ]
    }
   ],
   "source": [
    "saldo = 1000.00 # Define o saldo inicial da conta\n",
    "\n",
    "# Inicia um loop infinito que continuará até que o usuário escolha a opção se sair\n",
    "while True:\n",
    "    \n",
    "    #Imprime as opções do menu disponíveis para o usuário\n",
    "    print(\"\\nCaixa Eletrônico\")\n",
    "    print(\"1 - Verificar saldo\")\n",
    "    print(\"2 - Depositar Dinheiro\")\n",
    "    print(\"3 - Sacar Dinheiro\")\n",
    "    print(\"4 - Sair\")\n",
    "    \n",
    "    opcao = input(\"Escolha uma opção (1-4): \") # Solicita que o usuário escolha uma opção\n",
    "    \n",
    "    # Verifica a opção escolhida pelo usuário e executa a ação correspondente\n",
    "    if opcao == \"1\":\n",
    "        \n",
    "        print(f\"Seu saldo é: R$ {saldo:.2f}\") # Imprime o saldo atual da conta\n",
    "        \n",
    "    elif opcao == \"2\":\n",
    "        \n",
    "        deposito = float(input(\"Digite o valor do depósito: R$ \")) # Solicita o valor do depósito\n",
    "        \n",
    "        if deposito > 0: # Verifica se o valor do depósito é positivo\n",
    "            \n",
    "            saldo += deposito # Adiciona o valor do depósito ao saldo\n",
    "            \n",
    "            print(f\"Depósito de: R$ {deposito:.2f} realizado com sucesso!\") # Confirma o depósito\n",
    "            \n",
    "        else:\n",
    "            \n",
    "            print(f\"Valor de depósito inválido.\") # Informa que o valor do depósito é inválido\n",
    "    \n",
    "    elif opcao == \"3\":\n",
    "        \n",
    "        saque = float(input(\"Digite o valor do saque: R$ \")) # Solicita o valor do saque\n",
    "        \n",
    "        if saque > 0 and saque <= saldo: # Verifica se o valor é válido e se há saldo suficiente\n",
    "            \n",
    "            saldo -= deposito # Subtrai o valor do saque do saldo\n",
    "            \n",
    "            print(f\"Saque de: R$ {deposito:.2f} realizado com sucesso!\") # Confirma o saque\n",
    "            \n",
    "        else:\n",
    "            \n",
    "            print(f\"Valor do saque inválido ou saldo insuficiente.\") # Informa que o valor do saque é inválido ou não há saldo suficiente\n",
    "    \n",
    "    elif opcao == \"4\":\n",
    "        \n",
    "        print(\"Obrigado por utilizar o nosso caixa eletrônico. Até mais!\") # Agradece o usuário e prepara-se para sair do loop\n",
    "        \n",
    "        break # Sai do loop, terminando o programa\n",
    "        \n",
    "    else:\n",
    "        \n",
    "        print(\"Opção inválida. Por favor, tente novamente!\") # Informa ao usuário que ele escolheu uma opção inválida\n"
   ]
  },
  {
   "cell_type": "code",
   "execution_count": null,
   "id": "4992ff73",
   "metadata": {},
   "outputs": [],
   "source": []
  }
 ],
 "metadata": {
  "kernelspec": {
   "display_name": "Python 3 (ipykernel)",
   "language": "python",
   "name": "python3"
  },
  "language_info": {
   "codemirror_mode": {
    "name": "ipython",
    "version": 3
   },
   "file_extension": ".py",
   "mimetype": "text/x-python",
   "name": "python",
   "nbconvert_exporter": "python",
   "pygments_lexer": "ipython3",
   "version": "3.12.3"
  }
 },
 "nbformat": 4,
 "nbformat_minor": 5
}
