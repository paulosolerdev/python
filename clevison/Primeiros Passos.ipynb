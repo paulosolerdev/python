{
 "cells": [
  {
   "cell_type": "code",
   "execution_count": 1,
   "id": "856a5c45",
   "metadata": {},
   "outputs": [
    {
     "name": "stdout",
     "output_type": "stream",
     "text": [
      "A média das notas é: 7.57\n"
     ]
    }
   ],
   "source": [
    "nota1 = 7.5\n",
    "nota2 = 8.3\n",
    "nota3 = 6.9\n",
    "media = (nota1 + nota2 + nota3) / 3\n",
    "print(f'A média das notas é: {media:.2f}')"
   ]
  },
  {
   "cell_type": "code",
   "execution_count": null,
   "id": "914c1681",
   "metadata": {},
   "outputs": [],
   "source": []
  },
  {
   "cell_type": "code",
   "execution_count": null,
   "id": "712b7324",
   "metadata": {},
   "outputs": [],
   "source": []
  },
  {
   "cell_type": "code",
   "execution_count": 2,
   "id": "f2662579",
   "metadata": {
    "scrolled": false
   },
   "outputs": [
    {
     "name": "stdout",
     "output_type": "stream",
     "text": [
      "Script executado com sucesso!\n"
     ]
    }
   ],
   "source": []
  },
  {
   "cell_type": "code",
   "execution_count": 2,
   "id": "5c21d167",
   "metadata": {},
   "outputs": [
    {
     "name": "stdout",
     "output_type": "stream",
     "text": [
      "Digite seu nome: \n",
      "Paulo Soler\n",
      "O seu nome é: Paulo Soler\n"
     ]
    }
   ],
   "source": [
    "nome = input(\"Digite seu nome: \\n\")\n",
    "\n",
    "print(f\"O seu nome é: {nome}\")"
   ]
  },
  {
   "cell_type": "code",
   "execution_count": 21,
   "id": "bbe1c004",
   "metadata": {},
   "outputs": [
    {
     "name": "stdout",
     "output_type": "stream",
     "text": [
      "<class 'str'>\n",
      "<class 'int'>\n"
     ]
    }
   ],
   "source": [
    "nome = \"Ana Paula\"\n",
    "idade = 31\n",
    "\n",
    "print(type(nome))\n",
    "print(type(idade))"
   ]
  },
  {
   "cell_type": "code",
   "execution_count": 13,
   "id": "284bf1d7",
   "metadata": {},
   "outputs": [
    {
     "name": "stdout",
     "output_type": "stream",
     "text": [
      "Inteiro: 42\n",
      "Flutuante: 42.0\n",
      "Complexo: (3+4j)\n",
      "Olá, mundo!\n",
      "Lista: [1, 2, 3, 3]\n",
      "Tupla: (1, 2, 3, 3, 4, 5)\n",
      "Conjunto: {1, 2, 3}\n",
      "Dicionario: {'chave': 'valor'}\n",
      "Booleano: True\n",
      "NoneType (None): None\n"
     ]
    }
   ],
   "source": [
    "inteiro = 42\n",
    "print(\"Inteiro:\", inteiro)\n",
    "\n",
    "flutuante = 42.0\n",
    "print(\"Flutuante:\", flutuante)\n",
    "\n",
    "complexo = 3 + 4j\n",
    "print(\"Complexo:\", complexo)\n",
    "\n",
    "texto = \"Olá, mundo!\"\n",
    "print(texto)\n",
    "\n",
    "lista = [1, 2, 3, 3]\n",
    "print(\"Lista:\", lista)\n",
    "\n",
    "tupla = (1, 2, 3, 3, 4, 5)\n",
    "print(\"Tupla:\", tupla)\n",
    "\n",
    "conjunto = {1, 2, 3, 3}\n",
    "print(\"Conjunto:\", conjunto)\n",
    "\n",
    "dicionario = {\"chave\": \"valor\"}\n",
    "print(\"Dicionario:\", dicionario)\n",
    "\n",
    "booleano = True # ou False\n",
    "print(\"Booleano:\", booleano)\n",
    "\n",
    "nenhum = None\n",
    "print(\"NoneType (None):\", nenhum)"
   ]
  },
  {
   "cell_type": "code",
   "execution_count": 3,
   "id": "62eb5b34",
   "metadata": {},
   "outputs": [
    {
     "name": "stdout",
     "output_type": "stream",
     "text": [
      "Nome: Nicole\n",
      "Idade: 30\n",
      "Nome: Nicole , Idade: 30\n"
     ]
    }
   ],
   "source": [
    "#Variáveis\n",
    "\n",
    "idade = 30\n",
    "nome = \"Nicole\"\n",
    "\n",
    "print(\"Nome:\", nome)\n",
    "print(\"Idade:\", idade)\n",
    "print(\"Nome:\",nome,\", Idade:\", idade)"
   ]
  },
  {
   "cell_type": "code",
   "execution_count": null,
   "id": "a640f48e",
   "metadata": {},
   "outputs": [],
   "source": []
  },
  {
   "cell_type": "code",
   "execution_count": 11,
   "id": "ae77b53f",
   "metadata": {},
   "outputs": [
    {
     "name": "stdout",
     "output_type": "stream",
     "text": [
      "Informe um número inteiro para ver a tabuada: 5\n",
      "5\n",
      "10\n",
      "15\n",
      "20\n",
      "25\n",
      "30\n",
      "35\n",
      "40\n",
      "45\n",
      "50\n"
     ]
    }
   ],
   "source": [
    "num = int(input(\"Informe um número inteiro para ver a tabuada: \"))\n",
    "\n",
    "for i in range(1, 11):\n",
    "    resultado = num * i\n",
    "    print(resultado)\n",
    "    "
   ]
  },
  {
   "cell_type": "code",
   "execution_count": 1,
   "id": "70ebfef8",
   "metadata": {},
   "outputs": [
    {
     "name": "stdout",
     "output_type": "stream",
     "text": [
      "Digite o ano de nascimento: 1985\n",
      "Sua idade é: 40\n"
     ]
    }
   ],
   "source": [
    "ano_atual = 2025\n",
    "ano_nascimento = int(input(\"Digite o ano de nascimento: \"))\n",
    "\n",
    "idade = ano_atual - ano_nascimento\n",
    "\n",
    "print(f\"Sua idade é: {idade}\")\n"
   ]
  },
  {
   "cell_type": "code",
   "execution_count": 76,
   "id": "077db11b",
   "metadata": {},
   "outputs": [
    {
     "name": "stdout",
     "output_type": "stream",
     "text": [
      "16\n",
      "0.6460081075081459\n",
      "16\n",
      "cereja\n",
      "[1, 3, 2, 5, 4]\n",
      "8.642859414400094\n"
     ]
    }
   ],
   "source": [
    "\n",
    "#Números randômicos - Números aleatórios\n",
    "import random\n",
    "\n",
    "print(random.randrange(10, 20))\n",
    "\n",
    "print(random.random())\n",
    "\n",
    "print(random.randint(10, 20))\n",
    "\n",
    "frutas = [\"maçã\", \"banana\", \"cereja\"]\n",
    "print(random.choice(frutas))\n",
    "\n",
    "numeros = [1, 2, 3, 4, 5]\n",
    "random.shuffle(numeros)\n",
    "print(numeros)\n",
    "\n",
    "print(random.uniform(5.5, 9.5))"
   ]
  },
  {
   "cell_type": "code",
   "execution_count": 81,
   "id": "9df5bb17",
   "metadata": {},
   "outputs": [
    {
     "name": "stdout",
     "output_type": "stream",
     "text": [
      "P\n",
      "y\n",
      "t\n",
      "h\n",
      "o\n"
     ]
    }
   ],
   "source": [
    "#Imprimindo a posição das letras\n",
    "posicaoLetra = \"Python\"\n",
    "print(posicaoLetra[0])\n",
    "print(posicaoLetra[1])\n",
    "print(posicaoLetra[2])\n",
    "print(posicaoLetra[3])\n",
    "print(posicaoLetra[4])"
   ]
  },
  {
   "cell_type": "code",
   "execution_count": 87,
   "id": "ed94babb",
   "metadata": {},
   "outputs": [
    {
     "name": "stdout",
     "output_type": "stream",
     "text": [
      " mun\n",
      "Olá, \n",
      "mundo!\n"
     ]
    }
   ],
   "source": [
    "# Slice (Fatiamento)\n",
    "frase = 'Olá, mundo!'\n",
    "\n",
    "# Obtendo uma parte do string usando slice\n",
    "parte = frase[4:8]\n",
    "print(parte)\n",
    "\n",
    "# Obtendo os primeiros 5 caracteres da string\n",
    "primeiros = frase[:5]\n",
    "print(primeiros)\n",
    "\n",
    "# Obtendo os últimos 6 caracteres da string\n",
    "ultimos = frase[-6:]\n",
    "print(ultimos)"
   ]
  },
  {
   "cell_type": "code",
   "execution_count": 92,
   "id": "dee51238",
   "metadata": {},
   "outputs": [
    {
     "name": "stdout",
     "output_type": "stream",
     "text": [
      "True\n"
     ]
    },
    {
     "data": {
      "text/plain": [
       "'\\nO operador in é usado em Python para verificar a presença de um valor dentro\\nde uma sequência (como uma string, lista ou tupla). Neste caso, está sendo\\nusado para verificar se uma determinada substring está contida em uma string maior.\\n'"
      ]
     },
     "execution_count": 92,
     "metadata": {},
     "output_type": "execute_result"
    }
   ],
   "source": [
    "# Verifica se a palavra python está na frase\n",
    "frase = \"O módulo de python é muito legal\"\n",
    "print(\"python\" in frase)\n",
    "\n",
    "\"\"\"\n",
    "O operador in é usado em Python para verificar a presença de um valor dentro\n",
    "de uma sequência (como uma string, lista ou tupla). Neste caso, está sendo\n",
    "usado para verificar se uma determinada substring está contida em uma string maior.\n",
    "\"\"\"\n"
   ]
  },
  {
   "cell_type": "code",
   "execution_count": 94,
   "id": "712c8f16",
   "metadata": {},
   "outputs": [
    {
     "name": "stdout",
     "output_type": "stream",
     "text": [
      "Sim, a palavra python está presente na frase.\n"
     ]
    }
   ],
   "source": [
    "frase = \"O módulo de python é muito legal.\"\n",
    "\n",
    "if \"python\" in frase:\n",
    "    print(\"Sim, a palavra python está presente na frase.\")\n"
   ]
  },
  {
   "cell_type": "code",
   "execution_count": 97,
   "id": "2b032735",
   "metadata": {},
   "outputs": [
    {
     "name": "stdout",
     "output_type": "stream",
     "text": [
      "O módulo de python é muito legal.\n"
     ]
    }
   ],
   "source": [
    "#strip = Usamos para remover os espaços em branco do início e do final da frase\n",
    "frase = \"        O módulo de python é muito legal.          \"\n",
    "\n",
    "print(frase.strip())"
   ]
  },
  {
   "cell_type": "code",
   "execution_count": 102,
   "id": "6f296b63",
   "metadata": {},
   "outputs": [
    {
     "name": "stdout",
     "output_type": "stream",
     "text": [
      "Olá, como vai você?\n"
     ]
    }
   ],
   "source": [
    "#split, jois e strip são métodos muito úteis da str\n",
    "palavras = ['Olá,', 'como', 'vai', 'você?']\n",
    "frase = ' '.join(palavras)\n",
    "\n",
    "print(frase)"
   ]
  },
  {
   "cell_type": "code",
   "execution_count": 103,
   "id": "c3ff0887",
   "metadata": {},
   "outputs": [
    {
     "name": "stdout",
     "output_type": "stream",
     "text": [
      "['Olá,', 'como', 'vai', 'você?']\n"
     ]
    }
   ],
   "source": [
    "#split, jois e strip são métodos muito úteis da str\n",
    "frase = \"Olá, como vai você?\"\n",
    "palavras = frase.split()\n",
    "\n",
    "print(palavras)\n",
    "# Saída: ['Olá,', 'como', 'vai', 'você?']\n"
   ]
  },
  {
   "cell_type": "code",
   "execution_count": 2,
   "id": "00e9ef86",
   "metadata": {},
   "outputs": [
    {
     "name": "stdout",
     "output_type": "stream",
     "text": [
      "Olá!\n"
     ]
    }
   ],
   "source": [
    "texto = \"******Olá!******\"\n",
    "texto_strip = texto.strip('*')\n",
    "\n",
    "print(texto_strip)"
   ]
  },
  {
   "cell_type": "code",
   "execution_count": 4,
   "id": "72e7cedb",
   "metadata": {},
   "outputs": [
    {
     "name": "stdout",
     "output_type": "stream",
     "text": [
      "Olá, meu nome é Alice. Tenho 25 anos e minha altura é 1.65 metros\n"
     ]
    }
   ],
   "source": [
    "#Utilizando Formated Strings\n",
    "nome = 'Alice'\n",
    "idade = 25\n",
    "altura = 1.65\n",
    "\n",
    "#Criando uma mensagem formatada usando f-string\n",
    "mensagem = f\"Olá, meu nome é {nome}. Tenho {idade} anos e minha altura é {altura:.2f} metros\"\n",
    "print(mensagem)"
   ]
  },
  {
   "cell_type": "code",
   "execution_count": 11,
   "id": "97868d68",
   "metadata": {},
   "outputs": [
    {
     "name": "stdout",
     "output_type": "stream",
     "text": [
      "OLÁ, MUNDO!\n",
      "olá, mundo!\n",
      "Olá, mundo!\n",
      "1\n",
      "Olá, amigo!\n",
      "['Olá', ' mundo!']\n",
      "Olá,mundo!\n"
     ]
    }
   ],
   "source": [
    "texto = \"Olá, mundo!\"\n",
    "\n",
    "texto_upper = texto.upper()\n",
    "print(texto_upper)\n",
    "\n",
    "texto_lower = texto.lower()\n",
    "print(texto_lower)\n",
    "\n",
    "texto_capitalize = texto.capitalize()\n",
    "print(texto_capitalize)\n",
    "\n",
    "ocorrencias = texto.count(\"o\")\n",
    "print(ocorrencias)\n",
    "\n",
    "texto_substituido = texto.replace(\"mundo\", \"amigo\")\n",
    "print(texto_substituido)\n",
    "\n",
    "palavras = texto.split(\",\")\n",
    "print(palavras)\n",
    "\n",
    "lista_palavras = ['Olá', 'mundo!']\n",
    "texto_junto = \",\".join(lista_palavras)"
   ]
  },
  {
   "cell_type": "code",
   "execution_count": 18,
   "id": "e4fe93e0",
   "metadata": {},
   "outputs": [
    {
     "name": "stdout",
     "output_type": "stream",
     "text": [
      "Maria Silva\n",
      "O nome dela é Maria Silva e sua idade é 30 anos.\n"
     ]
    }
   ],
   "source": [
    "# Exercício de Manipulação de Strings em Python\n",
    "\n",
    "# 1. Crie uma variável chamada \"nome\" e atribua a ela o valor \"Maria\".\n",
    "nome = \"Maria\"\n",
    "\n",
    "# 2. Crie uma variável chamada \"sobrenome\" e atribua a ela o valor \"Silva\".\n",
    "sobrenome = \"Silva\"\n",
    "\n",
    "# 3. Crie uma variável chamada \"idade\" e atribua a ela o valor 30.\n",
    "idade = 30\n",
    "\n",
    "# 4. Concatene as variáveis \"nome\" e \"sobrenome\" em uma nova variável chamada \"nome_completo\".\n",
    "nome_completo = f\"{nome} {sobrenome}\"\n",
    "\n",
    "\n",
    "# 5. Imprima na tela o valor da variável \"nome_completo\"\n",
    "print(nome_completo)\n",
    "\n",
    "# 6. Crie uma variável chamada \"mensagem\" que utilize a função format para criar uma frase\n",
    "#personalizada com as variáveis \"nome_completo\" e \"idade\".\n",
    "mensagem = f\"O nome dela é {nome_completo} e sua idade é {idade} anos.\"\n",
    "\n",
    "# 7. Imprima na tela o valor da variável \"mensagem\".\n",
    "print(mensagem)"
   ]
  },
  {
   "cell_type": "code",
   "execution_count": 29,
   "id": "b8f61a80",
   "metadata": {},
   "outputs": [
    {
     "name": "stdout",
     "output_type": "stream",
     "text": [
      "A frase 'Python é uma linguagem de programação poderosa e versátil.' possui 59 caracteres.\n",
      "Python\n",
      "Python é uma linguagem de programação incrível e versátil.\n"
     ]
    }
   ],
   "source": [
    "# 1. \n",
    "frase = \"Python é uma linguagem de programação poderosa e versátil.\"\n",
    "\n",
    "# 2.\n",
    "print(f\"A frase '{frase}' possui {frase.count(\"\")} caracteres.\")\n",
    "\n",
    "# 3.\n",
    "palavra = frase.split()[0]\n",
    "print(palavra)\n",
    "\n",
    "# 4.\n",
    "frase_maiuscula = frase.upper()\n",
    "\n",
    "# 5.\n",
    "frase_substituida = frase.replace(\"poderosa\", \"incrível\")\n",
    "print(frase_substituida)"
   ]
  }
 ],
 "metadata": {
  "kernelspec": {
   "display_name": "Python 3 (ipykernel)",
   "language": "python",
   "name": "python3"
  },
  "language_info": {
   "codemirror_mode": {
    "name": "ipython",
    "version": 3
   },
   "file_extension": ".py",
   "mimetype": "text/x-python",
   "name": "python",
   "nbconvert_exporter": "python",
   "pygments_lexer": "ipython3",
   "version": "3.12.3"
  }
 },
 "nbformat": 4,
 "nbformat_minor": 5
}
