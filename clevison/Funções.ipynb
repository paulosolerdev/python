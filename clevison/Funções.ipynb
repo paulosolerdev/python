{
 "cells": [
  {
   "cell_type": "code",
   "execution_count": 5,
   "id": "f4bd1a64",
   "metadata": {},
   "outputs": [
    {
     "name": "stdout",
     "output_type": "stream",
     "text": [
      "5\n",
      "12\n",
      "15\n"
     ]
    }
   ],
   "source": [
    "# Funções\n",
    "\n",
    "\"\"\"\n",
    "Em programação, uma função é um bloco de código que realiza uma tarefa\n",
    "específica e pode ser executado várias vezes em diferentes partes do \n",
    "programa. As funções ajudam a organizar e modularizar o código, \n",
    "tornando-o mais legível, reutilizável e fácil de manter.\n",
    "\"\"\"\n",
    "\n",
    "# Criando uma função de soma\n",
    "def soma(a, b):\n",
    "    return a + b\n",
    "\n",
    "resultado = soma(2, 3)\n",
    "print(resultado)\n",
    "\n",
    "resultado = soma(5, 7)\n",
    "print(resultado)\n",
    "\n",
    "resultado = soma(7, 8)\n",
    "print(resultado)\n"
   ]
  },
  {
   "cell_type": "code",
   "execution_count": null,
   "id": "c613f438",
   "metadata": {},
   "outputs": [],
   "source": []
  },
  {
   "cell_type": "code",
   "execution_count": 7,
   "id": "08436af0",
   "metadata": {},
   "outputs": [
    {
     "name": "stdout",
     "output_type": "stream",
     "text": [
      "Digite o primeiro número: 5\n",
      "Digite o segundo número: 4\n",
      "A soma é: 9\n"
     ]
    }
   ],
   "source": [
    "# Criando uma função de soma\n",
    "def soma(a, b):\n",
    "    return a + b\n",
    "\n",
    "numero1 = int(input(\"Digite o primeiro número: \"))\n",
    "numero2 = int(input(\"Digite o segundo número: \"))\n",
    "\n",
    "resultado = soma(numero1, numero2)\n",
    "print(f\"A soma é: {resultado}\")\n"
   ]
  },
  {
   "cell_type": "code",
   "execution_count": null,
   "id": "d919acf1",
   "metadata": {},
   "outputs": [],
   "source": []
  },
  {
   "cell_type": "code",
   "execution_count": 9,
   "id": "88d8be46",
   "metadata": {},
   "outputs": [
    {
     "name": "stdout",
     "output_type": "stream",
     "text": [
      "Olá João! Bem vindo!\n"
     ]
    }
   ],
   "source": [
    "# Parâmetros e Argumentos em uma função\n",
    "def saudacao(nome):\n",
    "    # Função que exibe uma saudação personalizada.\n",
    "    print(f\"Olá {nome}! Bem vindo!\")\n",
    "    \n",
    "# Argumento passado para a função\n",
    "nome_usuario = 'João'\n",
    "\n",
    "# Chamada da função com o argumento\n",
    "saudacao(nome_usuario)\n"
   ]
  },
  {
   "cell_type": "code",
   "execution_count": null,
   "id": "9c0e8387",
   "metadata": {},
   "outputs": [],
   "source": []
  },
  {
   "cell_type": "code",
   "execution_count": 17,
   "id": "7feb70dd",
   "metadata": {},
   "outputs": [
    {
     "name": "stdout",
     "output_type": "stream",
     "text": [
      "Nome: João\n",
      "Idade: 25\n",
      "Cidade: São Paulo\n",
      "\n",
      "Nome: Maria\n",
      "Idade: 39\n",
      "Cidade: Desconhecida\n"
     ]
    }
   ],
   "source": [
    "# Argumentos Default e Non-default\n",
    "\n",
    "\"\"\"\n",
    "Em Python, ao definir uma função, você pode atribuir valores padrão\n",
    "aos parâmetros da função. Esses valores padrão são chamados de\n",
    "\"argumentos default\" (padrão) e permitem que você chame a função sem\n",
    "precisar fornecer valores para esses parâmetros, pois eles tem um \n",
    "valor pré-definido.\n",
    "\n",
    "Por outro lado, os \"argumentos non-default\" (não padrão) são aqueles\n",
    "que não possuem um valor padrão atribuído na definição da função e,\n",
    "portanto, precisam ser fornecidos como argumentos quando a função\n",
    "é chamada.\n",
    "\"\"\"\n",
    "\n",
    "def exibir_informacoes(nome, idade=39, cidade=\"Desconhecida\"):\n",
    "    \n",
    "    print(f\"Nome: {nome}\")\n",
    "    print(f\"Idade: {idade}\")\n",
    "    print(f\"Cidade: {cidade}\")\n",
    "    \n",
    "# Argumentos sem valores default\n",
    "exibir_informacoes(\"João\", 25, \"São Paulo\")\n",
    "\n",
    "print()\n",
    "\n",
    "# Argumentos com valores default\n",
    "exibir_informacoes(\"Maria\")\n"
   ]
  },
  {
   "cell_type": "code",
   "execution_count": null,
   "id": "0941976f",
   "metadata": {},
   "outputs": [],
   "source": []
  },
  {
   "cell_type": "code",
   "execution_count": 20,
   "id": "6fcee7a0",
   "metadata": {},
   "outputs": [
    {
     "name": "stdout",
     "output_type": "stream",
     "text": [
      "Olá João! Bem vindo(a) ao nosso programa.\n",
      "O resultado da soma é: 7\n"
     ]
    }
   ],
   "source": [
    "#Exemplo com print():\n",
    "def saudacao(nome):\n",
    "    # Função que exibe uma saudação personalizada.\n",
    "    print(f\"Olá {nome}! Bem vindo(a) ao nosso programa.\")\n",
    "    \n",
    "saudacao(\"João\")\n",
    "\n",
    "    \n",
    "# Exemplo com return:\n",
    "def soma(a, b):\n",
    "    \n",
    "    # Função que retorna a soma de dois números.\n",
    "    return a + b\n",
    "\n",
    "resultado = soma(3, 4)\n",
    "print(f\"O resultado da soma é: {resultado}\")\n"
   ]
  },
  {
   "cell_type": "code",
   "execution_count": null,
   "id": "4ca9825f",
   "metadata": {},
   "outputs": [],
   "source": []
  },
  {
   "cell_type": "code",
   "execution_count": 25,
   "id": "63a9de23",
   "metadata": {},
   "outputs": [
    {
     "name": "stdout",
     "output_type": "stream",
     "text": [
      "50\n",
      "\n"
     ]
    }
   ],
   "source": [
    "# Vários argumentos *args com números\n",
    "\n",
    "\"\"\"\n",
    "Parêmetro especial *args, que permite receber um número variável de\n",
    "argumentos numéricos. Dentro da função, os argumentos são tratados\n",
    "como uma tupla.\n",
    "\"\"\"\n",
    "\n",
    "def soma(*args):\n",
    "    \n",
    "    \"\"\"Função que retorna a soma de vários números.\"\"\"\n",
    "    resultado = sum(args)\n",
    "    return resultado\n",
    "\n",
    "total = soma(5, 6, 9, 10, 20)\n",
    "print(total)\n",
    "\n",
    "\"\"\"\n",
    "Dessa forma, a função soma() é capaz de lidar com qualquer quantidade\n",
    "de argumentos numéricos e retorna a soma total desses números.\n",
    "\"\"\"\n",
    "print()\n"
   ]
  },
  {
   "cell_type": "code",
   "execution_count": null,
   "id": "f02d40db",
   "metadata": {},
   "outputs": [],
   "source": []
  },
  {
   "cell_type": "code",
   "execution_count": 1,
   "id": "259b2b81",
   "metadata": {},
   "outputs": [
    {
     "name": "stdout",
     "output_type": "stream",
     "text": [
      "Digite uma sequência de números por espaços: 5 6 7\n",
      "Média: 6.0\n",
      "Maior Número: 7.0\n",
      "Menor Número: 5.0\n"
     ]
    }
   ],
   "source": [
    "\"\"\"\n",
    "Exercício: Função para calcular Estatísticas de Números\n",
    "\n",
    "Objetivo: Familiarizar com a definição de funções que aceitem um\n",
    "número variável de argumentos usando *args, bem como calcular\n",
    "algumas estatísticas básicas de um conjunto de números.\n",
    "\n",
    "Instruções:\n",
    "\n",
    "    1. Defina uma função chamada estatísticas que aceite\n",
    "    um número variável de argumentos numéricos.\n",
    "    2. A função deve retornar a média, o maior e o menor número do\n",
    "    conjunto.\n",
    "    3. Peça ao usuário para inserir uma sequência de números, separados\n",
    "    por espaços.\n",
    "    4. Converta essa entrada do usuário em uma lista de números.\n",
    "    5. Use a função estatísticas para calcular a média, o maior e o\n",
    "    menor número da lista.\n",
    "    6. Mostre ao usuário a média, o maior e o menor número.\n",
    "\"\"\"\n",
    "\n",
    "def estatisticas(*args):\n",
    "    \n",
    "    return sum(args) / len(args), max(args), min(args)\n",
    "\n",
    "\"\"\"\n",
    "input(\"Digite uma sequência de números separados por espaços: \"): A\n",
    "função input() é usada para obter uma entrada do usuário no console. \n",
    "Nesse caso, a mensagem \"Digite uma sequência de números por espaços: \"\n",
    "é exibida para o usuário, pedindo que ele insira uma sequência de \n",
    "números separados por espaços.\n",
    "\n",
    ".split(): O método split() é chamado na string de entrada fornecida\n",
    "pelo usuário. Ele divide a string em partes separadas por espaços em branco,\n",
    "criando uma lista de strings.\n",
    "\n",
    "map(float, ...): A função map() é usada para aplicar a função float()\n",
    "a cada elemento da lista de strings. A função float() é responsável por\n",
    "converter uma string que representa um número em um número de ponto\n",
    "flutuante (float). Isso é feito para garantir que todos os números da \n",
    "sequência digitada sejam tratados como valores numéricos de ponto \n",
    "flutuante.\n",
    "\n",
    "list(...): O resultado da função map(float, ...) é convertida em uma \n",
    "lista de números de ponto flutuante. Agora, a variável números é uma\n",
    "lista contento os números digitados pelo usuário, convertidos em valores\n",
    "de ponto flutuante.\n",
    "\n",
    "Depois disso, a função estatísticas(*numeros) é chamada com a lista de\n",
    "números numeros desempacotada usando o operador *. A função estatisticas\n",
    "calcula a média, maior e menor número da sequência e retorna esses\n",
    "valores.\n",
    "\n",
    "Finalmente, os resultados são impressos na tela usando a função print()\n",
    "para mostrar a média, o maior e o menor número da sequência digitada\n",
    "pelo usuário.\n",
    "\"\"\"\n",
    "\n",
    "numeros = list(map(float, input(\"Digite uma sequência de números por espaços: \").split()))\n",
    "\n",
    "media, maior, menor = estatisticas(*numeros)\n",
    "\n",
    "print(f\"Média: {media}\")\n",
    "print(f\"Maior Número: {maior}\")\n",
    "print(f\"Menor Número: {menor}\")\n"
   ]
  },
  {
   "cell_type": "code",
   "execution_count": null,
   "id": "23473f42",
   "metadata": {},
   "outputs": [],
   "source": []
  },
  {
   "cell_type": "code",
   "execution_count": 7,
   "id": "b7b405d3",
   "metadata": {},
   "outputs": [
    {
     "name": "stdout",
     "output_type": "stream",
     "text": [
      "nome: João\n",
      "idade: 25\n",
      "cidade: São Paulo\n",
      "sexo: Masculino\n"
     ]
    }
   ],
   "source": [
    "# Vários argumentos xargs nomeando parâmetros\n",
    "\n",
    "# Função que recebe vários argumentos nomeados usando **kwargs:\n",
    "\n",
    "\"\"\"\n",
    "Em Python, **kwargs é um parâmetro especial usado em definições de função\n",
    "para capturar argumentos nomeados extras passados para a função. O\n",
    "termo \"kwargs\" é uma convenção comumente usada, mas o nome em si pode\n",
    "ser qualquer outro, desde que seja precedido por dois asteriscos (**).\n",
    "\n",
    "O parâmetro **kwargs permite que uma função aceite um número variável\n",
    "de argumentos nomeados adicionais. Os argumentos nomeados extras são\n",
    "passados para a função como um dicionário, onde as chaves são os nomes\n",
    "dos argumentos e os valores são os valores atribuídos a esses argumentos.\n",
    "\"\"\"\n",
    "\n",
    "def exibir_informacoes(**kwargs):\n",
    "    \n",
    "    \"\"\"Função que exibe informações pessoais\"\"\"\n",
    "    for chave, valor in kwargs.items():\n",
    "        print(f\"{chave}: {str(valor)}\")\n",
    "        \n",
    "exibir_informacoes(nome='João', idade=25, cidade='São Paulo', sexo='Masculino')\n"
   ]
  },
  {
   "cell_type": "code",
   "execution_count": null,
   "id": "9af0cab4",
   "metadata": {},
   "outputs": [],
   "source": []
  },
  {
   "cell_type": "code",
   "execution_count": 13,
   "id": "7c241550",
   "metadata": {},
   "outputs": [
    {
     "name": "stdout",
     "output_type": "stream",
     "text": [
      "Eu sou uma variável local.\n",
      "Eu sou uma variável global.\n",
      "Eu sou uma variável global.\n",
      "Eu sou externa\n",
      "Eu fui modificada pela função interna\n",
      "Eu fui modificada pela função interna\n"
     ]
    }
   ],
   "source": [
    "\"\"\"\n",
    "Escopo de Variáveis\n",
    "1. Variáveis locais vs globais\n",
    "2. Uso do global\n",
    "3. Uso do nonlocal (em funções aninhadas)\n",
    "\n",
    "Variáveis Locais vs Globais\n",
    "\n",
    "Uma variável definida dentro de uma função é chamada de variável local,\n",
    "enquanto uma definida fora de todas as funções é chamada de variável\n",
    "global.\n",
    "\"\"\"\n",
    "\n",
    "# Definindo uma variável global fora de qualquer função\n",
    "variavel_global = 'Eu sou uma variável global.'\n",
    "\n",
    "# Definindo a função funcao_exemplo\n",
    "def funcao_exemplo():\n",
    "    \n",
    "    global variavel_global\n",
    "    \n",
    "    # Criando uma variável local dentro da função\n",
    "    variavel_local = 'Eu sou uma variável local.'\n",
    "    \n",
    "    # Imprimindo a variável local\n",
    "    print(variavel_local)\n",
    "    \n",
    "    # Imprimindo a variável global dentro da função (é possível acessá-la,\n",
    "    # para modificá-la, precisaríamos usar a palavra-chave 'global')\n",
    "    print(variavel_global)\n",
    "        \n",
    "    \n",
    "# Chamando a função funcao_exemplo, que imprimirá ambas as variáveis    \n",
    "funcao_exemplo()\n",
    "\n",
    "# Imprimindo a variável global fora da função\n",
    "print(variavel_global)\n",
    "\n",
    "\"\"\"\n",
    "Uso do global\n",
    "\n",
    "Para modificar uma variável global dentro de uma função, você precisa\n",
    "usar a palavra-chave global:\n",
    "\"\"\"\n",
    "\n",
    "contador = 0\n",
    "\n",
    "def incrementar_contador():\n",
    "    \n",
    "    global contador\n",
    "    \n",
    "    contador += 1\n",
    "    \n",
    "    print(contador)\n",
    "    \n",
    "#incrementar_contador()\n",
    "#incrementar_contador()\n",
    "#incrementar_contador()\n",
    "\n",
    "\"\"\"\n",
    "Uso do nonlocal (em funções aninhadas)\n",
    "\n",
    "A palavra-chave nonlocal é usada para trabalhar com variáveis em um escopo\n",
    "mais próximo, mas não global, como em funções aninhadas:\n",
    "\n",
    "\"\"\"\n",
    "\n",
    "def funcao_externa():\n",
    "    \n",
    "    variavel_externa = 'Eu sou externa'\n",
    "    \n",
    "    print(variavel_externa)\n",
    "    \n",
    "    def funcao_interna():\n",
    "        \n",
    "        nonlocal variavel_externa\n",
    "        \n",
    "        variavel_externa = 'Eu fui modificada pela função interna'\n",
    "        \n",
    "        print(variavel_externa)\n",
    "\n",
    "    funcao_interna()\n",
    "    \n",
    "    print(variavel_externa)\n",
    "    \n",
    "funcao_externa()\n"
   ]
  },
  {
   "cell_type": "code",
   "execution_count": null,
   "id": "3e98711f",
   "metadata": {},
   "outputs": [],
   "source": []
  },
  {
   "cell_type": "code",
   "execution_count": 20,
   "id": "d803220f",
   "metadata": {},
   "outputs": [
    {
     "name": "stdout",
     "output_type": "stream",
     "text": [
      "Olá, mundo!\n",
      "Olá, Alice\n",
      "Oi!\n"
     ]
    }
   ],
   "source": [
    "\"\"\"\n",
    "Funções como Objetos de Primeira Classe\n",
    "\n",
    "1. Atribuindo funções a variáveis\n",
    "2. Passando funções como argumentos\n",
    "3. Retornando funções de outras funções\n",
    "\n",
    "Funções são objetos de primeira classe. Isso significa que elas podem\n",
    "ser tratadas como qualquer outro objeto, como strings, listas ou até\n",
    "mesmo classes.\n",
    "\n",
    "Aqui estão exemplos dos três casos mencionados:\n",
    "\n",
    "\n",
    "\"\"\"\n",
    "\n",
    "# Atribuindo funções a variáveis:\n",
    "# Definindo uma função simples\n",
    "def saudacao():\n",
    "    \n",
    "    return 'Olá, mundo!'\n",
    "\n",
    "\n",
    "# Atribuindo a função à variável 'cumprimentar'\n",
    "cumprimentar = saudacao\n",
    "\n",
    "# Chamando a função através da variável\n",
    "print(cumprimentar())\n",
    "\n",
    "#---------------------------------\n",
    "\n",
    "# Passando funções como argumentos\n",
    "\n",
    "def saudacao_nome(nome):\n",
    "    \n",
    "    return f'Olá, {nome}'\n",
    "\n",
    "def cumprimentar(funcao, nome):\n",
    "    \n",
    "    return funcao(nome)\n",
    "\n",
    "print(cumprimentar(saudacao_nome, 'Alice'))\n",
    "\n",
    "\n",
    "#---------------------------------\n",
    "\n",
    "\n",
    "# Retornando funções de outras funções\n",
    "\n",
    "def nivel_saudacao(nivel):\n",
    "    \n",
    "    def saudacao_basica():\n",
    "        return 'Oi!'\n",
    "    \n",
    "    def saudacao_avancada():\n",
    "        return 'Olá, como você está?'\n",
    "    \n",
    "    if nivel == 'basico':\n",
    "        return saudacao_basica\n",
    "    else:\n",
    "        return saudacao_avancada\n",
    "    \n",
    "cumprimento = nivel_saudacao('basico')\n",
    "print(cumprimento())"
   ]
  }
 ],
 "metadata": {
  "kernelspec": {
   "display_name": "Python 3 (ipykernel)",
   "language": "python",
   "name": "python3"
  },
  "language_info": {
   "codemirror_mode": {
    "name": "ipython",
    "version": 3
   },
   "file_extension": ".py",
   "mimetype": "text/x-python",
   "name": "python",
   "nbconvert_exporter": "python",
   "pygments_lexer": "ipython3",
   "version": "3.12.3"
  }
 },
 "nbformat": 4,
 "nbformat_minor": 5
}
