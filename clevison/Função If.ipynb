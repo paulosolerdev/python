{
 "cells": [
  {
   "cell_type": "code",
   "execution_count": 6,
   "id": "b6ca62eb",
   "metadata": {},
   "outputs": [
    {
     "name": "stdout",
     "output_type": "stream",
     "text": [
      "O número da variável 'número1 = 90' é maior que o número da 'variável2 = 12'\n"
     ]
    }
   ],
   "source": [
    "#Python função If ou seja função Se\n",
    "#if = Se\n",
    "#elif = Senão Se\n",
    "\n",
    "numero1 = 90\n",
    "numero2 = 12\n",
    "\n",
    "#Se a variável número1 é maior que a variável número2\n",
    "if numero1 > numero2:\n",
    "    \n",
    "    print(f\"O número da variável 'número1 = {numero1}' é maior que o número da 'variável2 = {numero2}'\")\n",
    "    "
   ]
  },
  {
   "cell_type": "code",
   "execution_count": 8,
   "id": "e97b618a",
   "metadata": {},
   "outputs": [
    {
     "name": "stdout",
     "output_type": "stream",
     "text": [
      "O número da variável numero1 é igual ao número da variável numero2.\n"
     ]
    }
   ],
   "source": [
    "#Python função If...elif\n",
    "\n",
    "numero1 = 6\n",
    "numero2 = 6\n",
    "\n",
    "if numero1 > numero2:\n",
    "    \n",
    "    print(f\"O número da variável numero1 é maior que o número da variável numero2.\")\n",
    "    \n",
    "elif numero1 == numero2:\n",
    "    print(f\"O número da variável numero1 é igual ao número da variável numero2.\")\n",
    "\n",
    "    "
   ]
  },
  {
   "cell_type": "code",
   "execution_count": 14,
   "id": "f1f0f403",
   "metadata": {},
   "outputs": [
    {
     "name": "stdout",
     "output_type": "stream",
     "text": [
      "Tente adivinhar o número secreto entre 1 e 10: 5\n",
      "Desculpe, você não adivinhou o número secreto. Tente novamente!.\n"
     ]
    }
   ],
   "source": [
    "# Define o número secreto que o usuário deve adivinhar\n",
    "numero_secreto = 7\n",
    "\n",
    "# Solicita ao usuário para inserir um número inteiro entre 1 e 10\n",
    "chute = int(input(\"Tente adivinhar o número secreto entre 1 e 10: \"))\n",
    "\n",
    "# Verifica se o número inserido pelo usuário é igual ao número secreto\n",
    "if chute == numero_secreto:\n",
    "    \n",
    "    # Se o usuário adivinhar corretamente, imprime uma mensagem de sucesso\n",
    "    print(f\"Parabéns! Você adivinhou o número secreto.\")\n",
    "    \n",
    "# else - Senão    \n",
    "else:\n",
    "    \n",
    "    # Se o usuário adivinhar errado, imprime uma mensagem de erro\n",
    "    print(f\"Desculpe, você não adivinhou o número secreto. Tente novamente!.\")"
   ]
  },
  {
   "cell_type": "code",
   "execution_count": 1,
   "id": "675f6ca5",
   "metadata": {},
   "outputs": [
    {
     "name": "stdout",
     "output_type": "stream",
     "text": [
      "Por favor, digite a sua idade para saber se irá votar: 5\n",
      "Você não é elegível para votar.\n"
     ]
    }
   ],
   "source": [
    "\"\"\"\n",
    "Exercício:\n",
    "\n",
    "Verifique a Elegibilidade para votar\n",
    "\n",
    "Neste exercício, você vai executar um programa que determina\n",
    "se uma pessoa está ou não elegível para votar com base em sua idade.\n",
    "\n",
    "    Execute o programa.\n",
    "    Insira sua idade quando solicitado.\n",
    "    O programa irá informar se você é elegível para votar ou não.\n",
    "    \n",
    "Note que a idade mínima para votar é de 18 anos.\n",
    "\"\"\"\n",
    "\n",
    "idade = int(input(\"Por favor, digite a sua idade para saber se irá votar: \"))\n",
    "\n",
    "if idade >= 0 and idade < 18:\n",
    "    \n",
    "    print(f\"Você não é elegível para votar.\")\n",
    "    \n",
    "elif idade >= 18:\n",
    "    \n",
    "    print(f\"Parabéns! Você é elegível para votar.\")\n",
    "    \n",
    "else:\n",
    "    \n",
    "    print(f\"Idade inexistente. Tente novamente.\")\n"
   ]
  },
  {
   "cell_type": "code",
   "execution_count": 1,
   "id": "28d47772",
   "metadata": {},
   "outputs": [
    {
     "name": "stdout",
     "output_type": "stream",
     "text": [
      "POr favor digite a nota do estudante (0-100): 99\n",
      "A sua nota 99.0 é classificação 'Excelente'.\n"
     ]
    }
   ],
   "source": [
    "\"\"\"\n",
    "Exercício:\n",
    "\n",
    "Classificação de Notas\n",
    "\n",
    "Neste exercício, seu objetivo é executar um programa que\n",
    "classifica as notas de um estudante em diferentes categorias.\n",
    "\n",
    "    Execute o programa.\n",
    "    \n",
    "    Insira a nota do estudante quando solicitado (entre 0 e 100).\n",
    "    \n",
    "    O programa irá informar a classificação da nota de acordo com os seguintes critérios:\n",
    "        Excelente: 90-100\n",
    "        Bom: 70-89\n",
    "        Satisfatório: 50-69\n",
    "        Insuficiente: 0-49\n",
    "\"\"\"\n",
    "\n",
    "nota = float(input(\"POr favor digite a nota do estudante (0-100): \"))\n",
    "\n",
    "if nota >= 90 and nota <= 100:\n",
    "    \n",
    "    print(f\"A sua nota {nota} é classificação 'Excelente'.\")\n",
    "    \n",
    "elif nota >= 70 and nota <= 89:\n",
    "    \n",
    "    print(f\"A sua nota {nota} é classificação 'Bom'.\")\n",
    "    \n",
    "elif nota >= 50 and nota <= 69:\n",
    "    \n",
    "    print(f\"A sua nota {nota} é classificação 'Satisfatório'.\")\n",
    "    \n",
    "elif nota >= 0 and nota <=49:\n",
    "    \n",
    "    print(f\"A sua nota {nota} é classificação 'Insuficiente'.\")\n",
    "    \n",
    "else:\n",
    "    \n",
    "    print(f\"A Nota {nota} é inexistente.\")\n"
   ]
  },
  {
   "cell_type": "code",
   "execution_count": 15,
   "id": "039a58c3",
   "metadata": {},
   "outputs": [
    {
     "name": "stdout",
     "output_type": "stream",
     "text": [
      "Informe o valor da sua compra: R$ 5\n",
      "Você não recebeu desconto e vai pagar 5.00 reais.\n"
     ]
    }
   ],
   "source": [
    "\"\"\"\n",
    "Exercício:\n",
    "\n",
    "Calculadora de Descontos\n",
    "\n",
    "Você é um cliente em uma loja que está tendo uma promoção especial.\n",
    "Dependendo do valor da sua compra, você pode receber um desconto!\n",
    "\n",
    "    Execute o programa.\n",
    "    Insira o valor da sua compra quando solicitado.\n",
    "    O programa irá calcular e informar o valor do desconto aplicado e \n",
    "    o valor final com o desconto.\n",
    "    \n",
    "Os descontos são aplicados da seguinte forma:\n",
    "\n",
    "    Compras acima de R$1.000,00 recebem 20% de desconto.\n",
    "    Compras de R$500,00 a R$1.000,00 recebem 10% de desconto.\n",
    "    Compras abaixo de R$500,00 não recebem desconto.\n",
    "    \n",
    "\"\"\"\n",
    "\n",
    "valor = float(input(\"Informe o valor da sua compra: R$ \"))\n",
    "\n",
    "if valor > 1000:\n",
    "    \n",
    "    valor = valor - (valor * 0.20)\n",
    "    print(f\"Você recebeu 20% de desconto e vai pagar {valor:.2f} reais.\")\n",
    "    \n",
    "elif valor > 500 and valor < 1000:\n",
    "    valor = valor - (valor * 0.10)\n",
    "    print(f\"Você recebeu 10% de desconto e vai pagar {valor:.2f} reais.\")\n",
    "    \n",
    "elif valor > 0 and valor < 500:\n",
    "    print(f\"Você não recebeu desconto e vai pagar {valor:.2f} reais.\")\n",
    "    \n",
    "else:\n",
    "    print(f\"Valor da compra inválido.\")\n"
   ]
  },
  {
   "cell_type": "code",
   "execution_count": 17,
   "id": "41e69c80",
   "metadata": {},
   "outputs": [
    {
     "name": "stdout",
     "output_type": "stream",
     "text": [
      "O 19 é maior que 150 ou o 19 é maior que 18!\n"
     ]
    }
   ],
   "source": [
    "#If ... Or\n",
    "#Se ... Ou\n",
    "\n",
    "numero1 = 19\n",
    "numero2 = 150\n",
    "numero3 = 18\n",
    "\n",
    "if numero1 > numero2 or numero1 > numero3:\n",
    "    \n",
    "    print(f\"O {numero1} é maior que {numero2} ou o {numero1} é maior que {numero3}!\")\n",
    "    "
   ]
  },
  {
   "cell_type": "code",
   "execution_count": 22,
   "id": "b7878d54",
   "metadata": {},
   "outputs": [
    {
     "name": "stdout",
     "output_type": "stream",
     "text": [
      "Você tem um convite VIP? (Sim/Não): nao\n",
      "Você está na lista dos convidados? (Sim/Não): nao\n",
      "Você um membro do clube? (Sim/Não): nao\n",
      "Desculpe, você não pode entrar no evento.\n"
     ]
    }
   ],
   "source": [
    "\"\"\"\n",
    "Exercício\n",
    "\n",
    "Entrada para um Evento Exclusivo\n",
    "\n",
    "Você foi convidado para um evento exclusivo. Para entrar, você deve\n",
    "atender a pelo menos uma das seguintes condições:\n",
    "\n",
    "    Ter um convite VIP.\n",
    "    Estar na lista de convidados.\n",
    "    Ser um membro do clube.\n",
    "    \n",
    "    Execute o programa.\n",
    "    \n",
    "    Responda às perguntas fornecidas com 'sim' ou 'não'.\n",
    "    O programa irá informar se você pode entrar no evento ou não.\n",
    "\"\"\"\n",
    "\n",
    "convite_vip = input(\"Você tem um convite VIP? (Sim/Não): \")\n",
    "    \n",
    "lista_convidados = input(\"Você está na lista dos convidados? (Sim/Não): \")\n",
    "\n",
    "membro_clube = input(\"Você um membro do clube? (Sim/Não): \")\n",
    "\n",
    "if convite_vip == \"sim\" or lista_convidados == \"sim\" or membro_clube == \"sim\":\n",
    "    print(f\"Bem-vindo(a) ao evento!\")\n",
    "    \n",
    "else:\n",
    "    print(f\"Desculpe, você não pode entrar no evento.\")\n"
   ]
  },
  {
   "cell_type": "code",
   "execution_count": 1,
   "id": "12a8ba35",
   "metadata": {},
   "outputs": [
    {
     "name": "stdout",
     "output_type": "stream",
     "text": [
      "Informe um número: 5\n",
      "O número 5 é ímpar.\n"
     ]
    }
   ],
   "source": [
    "#Exercício Par ou Ímpar\n",
    "#Crie um algoritmo que solicite a entrada de um número positivo e\n",
    "#imprima se o número é PAR ou ÍMPAR\n",
    "\n",
    "numero = int(input(\"Informe um número: \"))\n",
    "\n",
    "if numero % 2 == 0:\n",
    "    print(f\"O número {numero} é par.\")\n",
    "    \n",
    "else:\n",
    "    print(f\"O número {numero} é ímpar.\")\n"
   ]
  },
  {
   "cell_type": "code",
   "execution_count": 6,
   "id": "fa61cd14",
   "metadata": {},
   "outputs": [
    {
     "name": "stdout",
     "output_type": "stream",
     "text": [
      "menor de idade\n"
     ]
    }
   ],
   "source": [
    "#Estrutura condicional ternária\n",
    "\n",
    "#age - idade\n",
    "\n",
    "idade = 17\n",
    "status = \"adulto\" if idade >= 18 else \"menor de idade\"\n",
    "print(status)\n"
   ]
  },
  {
   "cell_type": "code",
   "execution_count": 10,
   "id": "12780973",
   "metadata": {},
   "outputs": [
    {
     "name": "stdout",
     "output_type": "stream",
     "text": [
      "Informe um número: 6\n",
      "Par\n"
     ]
    }
   ],
   "source": [
    "#Suponhamos que você queira determinar se um número é par ou ímpar:\n",
    "\n",
    "numero = int(input(\"Informe um número: \"))\n",
    "\n",
    "resultado = \"Par\" if numero % 2 == 0 else \"Ímpar\"\n",
    "print(resultado)\n"
   ]
  },
  {
   "cell_type": "code",
   "execution_count": 16,
   "id": "f531ab64",
   "metadata": {},
   "outputs": [
    {
     "name": "stdout",
     "output_type": "stream",
     "text": [
      "Informe o seu score: 69\n",
      "média\n"
     ]
    }
   ],
   "source": [
    "#Suponha que você tenha pontuação e queira categorizá-la como \"baixa\",\n",
    "#\"média\", ou \"alta\"\n",
    "\n",
    "#Versão Ternária\n",
    "\n",
    "score = float(input(\"Informe o seu score: \"))\n",
    "categoria = \"baixa\" if score < 50 else \"média\" if score < 80 else \"alta\"\n",
    "\n",
    "print(categoria)\n"
   ]
  }
 ],
 "metadata": {
  "kernelspec": {
   "display_name": "Python 3 (ipykernel)",
   "language": "python",
   "name": "python3"
  },
  "language_info": {
   "codemirror_mode": {
    "name": "ipython",
    "version": 3
   },
   "file_extension": ".py",
   "mimetype": "text/x-python",
   "name": "python",
   "nbconvert_exporter": "python",
   "pygments_lexer": "ipython3",
   "version": "3.12.3"
  }
 },
 "nbformat": 4,
 "nbformat_minor": 5
}
