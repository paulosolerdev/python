{
 "cells": [
  {
   "cell_type": "code",
   "execution_count": 5,
   "metadata": {},
   "outputs": [
    {
     "name": "stdout",
     "output_type": "stream",
     "text": [
      "[1, 2, 2, 3, 4, 4, 5, 5, 5]\n",
      "{1, 2, 3, 4, 5}\n",
      "{'Python', 1, 2, (4, 5)}\n",
      "Erro: unhashable type: 'list'\n"
     ]
    }
   ],
   "source": [
    "\"\"\"\n",
    "Definição e Características\n",
    "    - Um 'set' é uma coleção desordenada de elementos únicos. Isso significa\n",
    "    que não permite duplicatas.\n",
    "\n",
    "    Sets são mutáveis, mas os elementos contidos neles devem ser imutáveis\n",
    "    (por exemplo, números, strings e tuplas).\n",
    "\"\"\"\n",
    "\n",
    "# Exemplo 1\n",
    "\n",
    "lista = [1, 2, 2, 3, 4, 4, 5, 5, 5]\n",
    "print(lista)\n",
    "\n",
    "conjunto = set(lista)\n",
    "print(conjunto)\n",
    "\n",
    "# Exemplo 2\n",
    "\n",
    "conjunto = {1, 2, 'Python', (4, 5)}\n",
    "print(conjunto)\n",
    "\n",
    "try:\n",
    "\n",
    "    conjunto.add([6,7])\n",
    "\n",
    "except TypeError as e:\n",
    "\n",
    "    print(f'Erro: {e}')\n"
   ]
  },
  {
   "cell_type": "code",
   "execution_count": null,
   "metadata": {},
   "outputs": [
    {
     "name": "stdout",
     "output_type": "stream",
     "text": [
      "{1, 2, 3, 4}\n",
      "{1, 2, 3, 4}\n",
      "True\n"
     ]
    }
   ],
   "source": [
    "\"\"\"\n",
    "Criando um Conjunto\n",
    "    Usando chaves: s = {1, 2, 3}\n",
    "    Usando a função set(): s = set([1, 2, 3])\n",
    "\n",
    "\"\"\"\n",
    "\n",
    "# 1. Usando chaves\n",
    "s_chaves = {1, 2, 3, 3, 4}\n",
    "print(s_chaves)\n",
    "\n",
    "# 2. Usando a função set()\n",
    "s_funcao = set([1, 2, 3, 3, 4])\n",
    "print(s_funcao)\n",
    "\n",
    "# Comparando os dois métodos\n",
    "print(s_chaves == s_funcao)\n",
    "\n",
    "\"\"\"\n",
    "Ambas as abordagens são válidas para criar conjuntos em Python, mas\n",
    "o uso de chaves é mais conciso e geralmente preferido quando você já\n",
    "conhece os elementos que deseja incluir no conjunto. Por outro lado, a\n",
    "função set() é versátil e pode ser usada para converter outras estruturas\n",
    "de dados, como listas ou tuplas, em conjuntos.\n",
    "\n",
    "\"\"\"\n",
    "print()\n"
   ]
  },
  {
   "cell_type": "code",
   "execution_count": 16,
   "metadata": {},
   "outputs": [
    {
     "name": "stdout",
     "output_type": "stream",
     "text": [
      "{'cereja', 'banana', 'maçã'}\n",
      "['uva', 'manga', 'manga', 'uva', 'maçã']\n",
      "{'uva', 'manga', 'maçã'}\n",
      "Fruta(s) em comum: {'maçã'}\n"
     ]
    }
   ],
   "source": [
    "\"\"\"\n",
    "Exercício: Criação de Conjuntos em Python\n",
    "\n",
    "Instruções:\n",
    "\n",
    "    1. Usando Chaves:\n",
    "        Crie um conjunto chamado frutas_chaves que contenha as seguintes\n",
    "        frutas: 'maçã', 'banana' e 'cereja'.\n",
    "\n",
    "        Imprima o conjunto.\n",
    "\n",
    "    2. Usando a Função set():\n",
    "        Crie uma lista chamada frutas_lista contendo as frutas:\n",
    "        'uva', 'manga', 'manga', 'uva'. \n",
    "\n",
    "    3. Comparação:\n",
    "        Verifique se os conjuntos frutas_chaves e frutas_funcao possuem\n",
    "        alguma fruta em comum. Se sim, imprima a fruta em comum. Caso\n",
    "        contrário, imprima 'Os conjuntos não têm frutas em comum'.\n",
    "\n",
    "\"\"\"\n",
    "# 1.\n",
    "frutas_chaves = {'maçã', 'banana', 'cereja'}\n",
    "print(frutas_chaves)\n",
    "\n",
    "# 2.\n",
    "frutas_lista = ['uva', 'manga', 'manga', 'uva', 'maçã']\n",
    "print(frutas_lista)\n",
    "\n",
    "frutas_funcao = set(frutas_lista)\n",
    "print(frutas_funcao)\n",
    "\n",
    "# 3. \n",
    "\n",
    "interseccao = frutas_chaves.intersection(frutas_funcao)\n",
    "\n",
    "if interseccao:\n",
    "\n",
    "    print(f'Fruta(s) em comum: {interseccao}')\n",
    "\n",
    "else:\n",
    "\n",
    "    print(f'Os conjuntos não têm frutas em comum.')\n"
   ]
  }
 ],
 "metadata": {
  "kernelspec": {
   "display_name": "Python (jupyter_env)",
   "language": "python",
   "name": "jupyter_env"
  },
  "language_info": {
   "codemirror_mode": {
    "name": "ipython",
    "version": 3
   },
   "file_extension": ".py",
   "mimetype": "text/x-python",
   "name": "python",
   "nbconvert_exporter": "python",
   "pygments_lexer": "ipython3",
   "version": "3.12.3"
  }
 },
 "nbformat": 4,
 "nbformat_minor": 2
}
