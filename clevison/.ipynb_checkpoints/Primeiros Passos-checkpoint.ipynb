{
 "cells": [
  {
   "cell_type": "code",
   "execution_count": 29,
   "id": "856a5c45",
   "metadata": {},
   "outputs": [
    {
     "name": "stdout",
     "output_type": "stream",
     "text": [
      "A média das notas é: 7.57\n"
     ]
    }
   ],
   "source": [
    "nota1 = 7.5\n",
    "nota2 = 8.3\n",
    "nota3 = 6.9\n",
    "media = (nota1 + nota2 + nota3) / 3\n",
    "print(f'A média das notas é: {media:.2f}')"
   ]
  },
  {
   "cell_type": "code",
   "execution_count": null,
   "id": "712b7324",
   "metadata": {},
   "outputs": [],
   "source": []
  },
  {
   "cell_type": "code",
   "execution_count": 2,
   "id": "f2662579",
   "metadata": {
    "scrolled": false
   },
   "outputs": [
    {
     "name": "stdout",
     "output_type": "stream",
     "text": [
      "Script executado com sucesso!\n"
     ]
    }
   ],
   "source": []
  },
  {
   "cell_type": "code",
   "execution_count": 2,
   "id": "5c21d167",
   "metadata": {},
   "outputs": [
    {
     "name": "stdout",
     "output_type": "stream",
     "text": [
      "Digite seu nome: \n",
      "Paulo Soler\n",
      "O seu nome é: Paulo Soler\n"
     ]
    }
   ],
   "source": [
    "nome = input(\"Digite seu nome: \\n\")\n",
    "\n",
    "print(f\"O seu nome é: {nome}\")"
   ]
  },
  {
   "cell_type": "code",
   "execution_count": 21,
   "id": "bbe1c004",
   "metadata": {},
   "outputs": [
    {
     "name": "stdout",
     "output_type": "stream",
     "text": [
      "<class 'str'>\n",
      "<class 'int'>\n"
     ]
    }
   ],
   "source": [
    "nome = \"Ana Paula\"\n",
    "idade = 31\n",
    "\n",
    "print(type(nome))\n",
    "print(type(idade))"
   ]
  },
  {
   "cell_type": "code",
   "execution_count": 13,
   "id": "284bf1d7",
   "metadata": {},
   "outputs": [
    {
     "name": "stdout",
     "output_type": "stream",
     "text": [
      "Inteiro: 42\n",
      "Flutuante: 42.0\n",
      "Complexo: (3+4j)\n",
      "Olá, mundo!\n",
      "Lista: [1, 2, 3, 3]\n",
      "Tupla: (1, 2, 3, 3, 4, 5)\n",
      "Conjunto: {1, 2, 3}\n",
      "Dicionario: {'chave': 'valor'}\n",
      "Booleano: True\n",
      "NoneType (None): None\n"
     ]
    }
   ],
   "source": [
    "inteiro = 42\n",
    "print(\"Inteiro:\", inteiro)\n",
    "\n",
    "flutuante = 42.0\n",
    "print(\"Flutuante:\", flutuante)\n",
    "\n",
    "complexo = 3 + 4j\n",
    "print(\"Complexo:\", complexo)\n",
    "\n",
    "texto = \"Olá, mundo!\"\n",
    "print(texto)\n",
    "\n",
    "lista = [1, 2, 3, 3]\n",
    "print(\"Lista:\", lista)\n",
    "\n",
    "tupla = (1, 2, 3, 3, 4, 5)\n",
    "print(\"Tupla:\", tupla)\n",
    "\n",
    "conjunto = {1, 2, 3, 3}\n",
    "print(\"Conjunto:\", conjunto)\n",
    "\n",
    "dicionario = {\"chave\": \"valor\"}\n",
    "print(\"Dicionario:\", dicionario)\n",
    "\n",
    "booleano = True # ou False\n",
    "print(\"Booleano:\", booleano)\n",
    "\n",
    "nenhum = None\n",
    "print(\"NoneType (None):\", nenhum)"
   ]
  },
  {
   "cell_type": "code",
   "execution_count": 3,
   "id": "62eb5b34",
   "metadata": {},
   "outputs": [
    {
     "name": "stdout",
     "output_type": "stream",
     "text": [
      "Nome: Nicole\n",
      "Idade: 30\n",
      "Nome: Nicole , Idade: 30\n"
     ]
    }
   ],
   "source": [
    "#Variáveis\n",
    "\n",
    "idade = 30\n",
    "nome = \"Nicole\"\n",
    "\n",
    "print(\"Nome:\", nome)\n",
    "print(\"Idade:\", idade)\n",
    "print(\"Nome:\",nome,\", Idade:\", idade)"
   ]
  },
  {
   "cell_type": "code",
   "execution_count": null,
   "id": "a640f48e",
   "metadata": {},
   "outputs": [],
   "source": []
  },
  {
   "cell_type": "code",
   "execution_count": 11,
   "id": "ae77b53f",
   "metadata": {},
   "outputs": [
    {
     "name": "stdout",
     "output_type": "stream",
     "text": [
      "Informe um número inteiro para ver a tabuada: 5\n",
      "5\n",
      "10\n",
      "15\n",
      "20\n",
      "25\n",
      "30\n",
      "35\n",
      "40\n",
      "45\n",
      "50\n"
     ]
    }
   ],
   "source": [
    "num = int(input(\"Informe um número inteiro para ver a tabuada: \"))\n",
    "\n",
    "for i in range(1, 11):\n",
    "    resultado = num * i\n",
    "    print(resultado)\n",
    "    "
   ]
  },
  {
   "cell_type": "code",
   "execution_count": 14,
   "id": "70ebfef8",
   "metadata": {},
   "outputs": [
    {
     "name": "stdout",
     "output_type": "stream",
     "text": [
      "Digite o ano de nascimento: 1985\n",
      "Sua idade é: 40\n"
     ]
    }
   ],
   "source": [
    "ano_atual = 2025\n",
    "ano_nascimento = int(input(\"Digite o ano de nascimento: \"))\n",
    "\n",
    "idade = ano_atual - ano_nascimento\n",
    "\n",
    "print(f\"Sua idade é: {idade}\")\n"
   ]
  }
 ],
 "metadata": {
  "kernelspec": {
   "display_name": "Python 3 (ipykernel)",
   "language": "python",
   "name": "python3"
  },
  "language_info": {
   "codemirror_mode": {
    "name": "ipython",
    "version": 3
   },
   "file_extension": ".py",
   "mimetype": "text/x-python",
   "name": "python",
   "nbconvert_exporter": "python",
   "pygments_lexer": "ipython3",
   "version": "3.12.3"
  }
 },
 "nbformat": 4,
 "nbformat_minor": 5
}
